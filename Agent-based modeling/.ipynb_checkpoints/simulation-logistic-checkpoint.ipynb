{
 "cells": [
  {
   "cell_type": "code",
   "execution_count": 1,
   "metadata": {},
   "outputs": [],
   "source": [
    "import os\n",
    "import numpy as np\n",
    "import pandas as pd\n",
    "import itertools\n",
    "import networkx as nx\n",
    "import copy\n",
    "import math\n",
    "\n",
    "%matplotlib inline\n",
    "import matplotlib.pyplot as plt\n",
    "plt.rcParams.update({'figure.max_open_warning': 0})\n",
    "\n",
    "from aux import *\n",
    "from visualize import *\n",
    "from model import *"
   ]
  },
  {
   "cell_type": "code",
   "execution_count": 2,
   "metadata": {},
   "outputs": [],
   "source": [
    "DATA_PATH = '../Data/'\n",
    "class_ids = sorted([int(file_name.split('_')[0]) for file_name in os.listdir(DATA_PATH) if file_name.endswith('sex.csv')])\n",
    "\n",
    "# networks and affective matrices of all classes in wave 1\n",
    "networks = {}\n",
    "affective_matrices = {}\n",
    "for class_id in class_ids:\n",
    "    networks[class_id] = load_data(class_id, 1)\n",
    "    affective_matrices[class_id] = pd.read_csv(DATA_PATH + str(class_id) + '_affective_w1.csv', \\\n",
    "                                               header = 0, index_col = 0)\n",
    "    "
   ]
  },
  {
   "cell_type": "code",
   "execution_count": 3,
   "metadata": {},
   "outputs": [],
   "source": [
    "# Game Structure\n",
    "PAYOFF_FUNCTION = {('tell a secret', 'tell a secret'): (1, 1),\n",
    "                   ('tell a secret', 'refrain'): (-1, 0),\n",
    "                   ('refrain', 'tell a secret'): (0, -1),\n",
    "                   ('refrain', 'refrain'): (0, 0)}"
   ]
  },
  {
   "cell_type": "code",
   "execution_count": 4,
   "metadata": {},
   "outputs": [],
   "source": [
    "### Simulation by using logistic regression"
   ]
  },
  {
   "cell_type": "code",
   "execution_count": 5,
   "metadata": {},
   "outputs": [],
   "source": [
    "# Set parameters\n",
    "NUM_STEP = 6\n",
    "bonus_for_friends = 0.6395\n",
    "mode = 'logistic regression'"
   ]
  },
  {
   "cell_type": "code",
   "execution_count": null,
   "metadata": {},
   "outputs": [],
   "source": [
    "# Prepare for simulation\n",
    "simulated_networks = {}\n",
    "\n",
    "for class_id in class_ids:\n",
    "    trust_network = networks[class_id]\n",
    "    affective_matrix = affective_matrices[class_id]\n",
    "    model = TrustModel(trust_network, affective_matrix, mode, bonus_m2m = 0, bonus_f2f = 0, bonus_for_friends = 0)\n",
    "    simulated_networks[class_id] = model.run(NUM_STEP)"
   ]
  },
  {
   "cell_type": "code",
   "execution_count": null,
   "metadata": {},
   "outputs": [],
   "source": [
    "# Visualize a class in all steps\n",
    "SELECTED_CLASS = 1100\n",
    "for step in range(NUM_STEP + 1):\n",
    "    visualize(simulated_networks[1100][step], SELECTED_CLASS, step)"
   ]
  },
  {
   "cell_type": "code",
   "execution_count": null,
   "metadata": {},
   "outputs": [],
   "source": [
    "# Visualize all classes in step 0 and step #NUM_STEP\n",
    "for class_id in class_ids:\n",
    "    visualize(simulated_networks[class_id][0], class_id, 0)\n",
    "    visualize(simulated_networks[class_id][NUM_STEP], class_id, NUM_STEP)"
   ]
  },
  {
   "cell_type": "code",
   "execution_count": null,
   "metadata": {},
   "outputs": [],
   "source": [
    "def plot_assortativity(networks):\n",
    "    \"\"\"\n",
    "    Draw scatter plots of assortativity of step 0 and step 6\n",
    "    \"\"\"\n",
    "    \n",
    "    params = ['f2f', 'm2m', 'f2m', 'm2f']\n",
    "    \n",
    "    for param in params:\n",
    "        x = []\n",
    "        y = []\n",
    "        for class_id in class_ids:\n",
    "            f2f, m2m, f2m, m2f = get_assortativity(networks[class_id][0])\n",
    "            x.append(eval(param))\n",
    "            f2f, m2m, f2m, m2f = get_assortativity(networks[class_id][-1])\n",
    "            y.append(eval(param))\n",
    "            \n",
    "        xymax = max(max(x), max(y)) + 0.05\n",
    "        plt.xlim((-0.05, xymax))\n",
    "        plt.ylim((-0.05, xymax))\n",
    "        plt.suptitle('assortativity {}'.format(param), fontsize = 20)\n",
    "        plt.scatter(x, y)\n",
    "        plt.xlabel('Step 0')\n",
    "        plt.ylabel('Step 6')\n",
    "        \n",
    "        # Calculate Pearson Correlation Coefficient\n",
    "        corr = np.corrcoef(np.vstack([np.array(x), np.array(y)]))\n",
    "        corr = round(corr[0][1], 2)\n",
    "        \n",
    "        # Linear Regression\n",
    "        coef, error, _, _, _ = np.polyfit(x, y, 1, full = True)\n",
    "        error = round(error[0], 2)\n",
    "        plt.plot([-0.05, xymax], np.array([-0.05, xymax]) * coef[0] + coef[1], color='r')\n",
    "        \n",
    "        # Hard coding here, sad\n",
    "        if param == 'f2f':\n",
    "            plt.text(0.4, 0.4 * coef[0] + coef[1] - 0.2, \\\n",
    "            'slope = {} \\n error = {} \\n corr = {}'.format(round(coef[0], 2), error, corr))\n",
    "        else:\n",
    "            plt.text(xymax/2 + 0.02, xymax/2 * coef[0] + coef[1] - 0.12, \\\n",
    "            'slope = {} \\n error = {} \\n corr = {}'.format(round(coef[0], 2), error, corr))\n",
    "        \n",
    "        plt.savefig('assortativity {}.png'.format(param), dpi = 300)\n",
    "        plt.show()"
   ]
  },
  {
   "cell_type": "code",
   "execution_count": null,
   "metadata": {},
   "outputs": [],
   "source": [
    "plot_assortativity(simulated_networks)"
   ]
  },
  {
   "cell_type": "code",
   "execution_count": null,
   "metadata": {},
   "outputs": [],
   "source": [
    "def get_parameters(networks):\n",
    "    \"\"\"\n",
    "    Generate the csv file that records parameters of the simulated networks in step 6 for each class\n",
    "    \"\"\"\n",
    "    \n",
    "    df = pd.DataFrame(np.nan, index=class_ids, columns=['attribute', 'f2f', 'm2m', 'f2m', 'm2f', 'density'])\n",
    "\n",
    "    for class_id in class_ids:\n",
    "        f2f, m2m, f2m, m2f = get_assortativity(networks[class_id][-1])\n",
    "        df.at[class_id, 'f2f'] = f2f\n",
    "        df.at[class_id, 'm2m'] = m2m\n",
    "        df.at[class_id, 'f2m'] = f2m\n",
    "        df.at[class_id, 'm2f'] = m2f\n",
    "        \n",
    "        attribute_assortativity = nx.attribute_assortativity_coefficient(networks[class_id][-1], 'sex')\n",
    "        attribute_assortativity = round(attribute_assortativity, 3)\n",
    "        df.at[class_id, 'attribute'] =  attribute_assortativity\n",
    "        \n",
    "        density = nx.density(network)\n",
    "        density = round(density, 3)\n",
    "        df.at[class_id, 'density'] =  density\n",
    "        \n",
    "    print(df)\n",
    "    df.to_csv('params for step 6.csv', sep='\\t')\n",
    "    "
   ]
  },
  {
   "cell_type": "code",
   "execution_count": null,
   "metadata": {},
   "outputs": [],
   "source": [
    "get_parameters(simulated_networks)"
   ]
  }
 ],
 "metadata": {
  "kernelspec": {
   "display_name": "Python 3",
   "language": "python",
   "name": "python3"
  },
  "language_info": {
   "codemirror_mode": {
    "name": "ipython",
    "version": 3
   },
   "file_extension": ".py",
   "mimetype": "text/x-python",
   "name": "python",
   "nbconvert_exporter": "python",
   "pygments_lexer": "ipython3",
   "version": "3.6.5"
  }
 },
 "nbformat": 4,
 "nbformat_minor": 2
}

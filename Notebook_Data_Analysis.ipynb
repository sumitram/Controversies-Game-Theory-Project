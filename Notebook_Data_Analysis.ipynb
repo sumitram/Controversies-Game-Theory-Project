{
 "cells": [
  {
   "cell_type": "markdown",
   "metadata": {},
   "source": [
    "The present program reads the data; calculates many network parameter; tries to generate the equivalent E-R random network using the average degree, sex of the nodes, and number of nodes; and generates the synthetics statistics for the random network for comparison with the real networks."
   ]
  },
  {
   "cell_type": "code",
   "execution_count": 167,
   "metadata": {
    "ExecuteTime": {
     "end_time": "2018-09-20T15:47:54.195381Z",
     "start_time": "2018-09-20T15:47:54.184527Z"
    },
    "code_folding": [
     0
    ]
   },
   "outputs": [],
   "source": [
    "### Imports ###\n",
    "%matplotlib inline\n",
    "%config IPCompleter.greedy=True\n",
    "import matplotlib.pyplot as plt\n",
    "import igraph\n",
    "import numpy as np\n",
    "from IPython.display import *\n",
    "import pandas as pd\n",
    "from igraph import ADJ_DIRECTED\n",
    "import os\n",
    "from igraph import *"
   ]
  },
  {
   "cell_type": "code",
   "execution_count": 33,
   "metadata": {
    "ExecuteTime": {
     "end_time": "2018-09-20T13:43:17.210382Z",
     "start_time": "2018-09-20T13:43:17.205780Z"
    },
    "code_folding": [
     0,
     1,
     10
    ]
   },
   "outputs": [],
   "source": [
    "### Initialization ###\n",
    "def displayNetwork(g, visual_style={}):\n",
    "    \"\"\"\n",
    "    IN: Network object\n",
    "    OUT: Plots the network\n",
    "    \"\"\"\n",
    "    igraph.plot(g, \"temp.png\", **visual_style)\n",
    "    display(Image(filename='temp.png'))\n",
    "\n",
    "### Loading the data to network object###\n",
    "def LoadData2Network(file_id,it=\"w1\"):\n",
    "    \"\"\"\n",
    "    IN: File_id, Iteration\n",
    "    OUT: Friendship_Network, Trust_Network\n",
    "    \"\"\"\n",
    "    sex        =pd.read_csv(DATA_PATH+\"{}_sex.csv\".format(file_id),index_col=0)\n",
    "    friendship =pd.read_csv(DATA_PATH+\"{}_affective_{}.csv\".format(file_id,it),index_col=0)\n",
    "    trust      =pd.read_csv(DATA_PATH+\"{}_trust_{}.csv\".format(file_id,it),index_col=0)\n",
    "    A_fr = friendship.values\n",
    "    A_tr = trust.values\n",
    "    friend_graph=igraph.Graph.Weighted_Adjacency((A_fr).tolist(),mode=ADJ_DIRECTED, attr=\"weight\", loops=False)\n",
    "    trust_graph=igraph.Graph.Weighted_Adjacency((A_tr).tolist(),mode=ADJ_DIRECTED, attr=\"weight\", loops=False)\n",
    "    friend_graph.vs['sex'] = sex['sex'].values\n",
    "    trust_graph.vs['sex'] = sex['sex'].values\n",
    "    return friend_graph, trust_graph"
   ]
  },
  {
   "cell_type": "code",
   "execution_count": 34,
   "metadata": {
    "ExecuteTime": {
     "end_time": "2018-09-20T13:43:18.333602Z",
     "start_time": "2018-09-20T13:43:18.328753Z"
    },
    "code_folding": [
     0
    ]
   },
   "outputs": [],
   "source": [
    "### Paths ###\n",
    "DATA_PATH=\"Data/\""
   ]
  },
  {
   "cell_type": "code",
   "execution_count": 166,
   "metadata": {
    "ExecuteTime": {
     "end_time": "2018-09-20T15:45:10.673038Z",
     "start_time": "2018-09-20T15:45:10.670698Z"
    },
    "code_folding": [
     0
    ]
   },
   "outputs": [],
   "source": [
    "### Visualisation ###\n",
    "visual_style = {}\n",
    "visual_style[\"layout\"] = friend_graph.layout_fruchterman_reingold()\n",
    "visual_style[\"margin\"] = 60\n",
    "visual_style[\"edge_curved\"] = 0.2\n",
    "visual_style[\"edge_width\"] = 0.2\n",
    "visual_style[\"edge_arrow_size\"] = 0.2\n",
    "visual_style[\"edge_arrow_width\"] = 1\n",
    "visual_style[\"color\"]=friend_graph.vs[\"sex\"]\n",
    "\n",
    "friend_graph.vs[\"sex\"] = friend_graph.vs[\"sex\"]\n",
    "color_dict = {1: \"blue\", 2: \"red\"}\n",
    "friend_graph.vs[\"color\"] = [color_dict[gender] for gender in friend_graph.vs[\"sex\"]]\n",
    "\n",
    "displayNetwork(friend_graph,visual_style)"
   ]
  },
  {
   "cell_type": "code",
   "execution_count": 156,
   "metadata": {
    "ExecuteTime": {
     "end_time": "2018-09-20T15:34:50.233220Z",
     "start_time": "2018-09-20T15:34:50.224580Z"
    },
    "code_folding": [
     0,
     2,
     31
    ]
   },
   "outputs": [],
   "source": [
    "### Network parameters ###\n",
    "\n",
    "def get_network_param(network):\n",
    "    \"\"\"\n",
    "    IN: Network object\n",
    "    OUT: Bunch of network parameters\n",
    "    \n",
    "    \"\"\"\n",
    "    \n",
    "    Degree =getattr(network,\"degree\")()\n",
    "    Betweenness =getattr(network,\"betweenness\")(vertices=None, directed=True, cutoff=None, weights=None, nobigint=True)\n",
    "    Transitivity_avglocal_undirected =getattr(network,\"transitivity_avglocal_undirected\")(mode=\"nan\")\n",
    "    Transitivity_undirected =getattr(network,\"transitivity_undirected\")(mode=\"nan\")\n",
    "    Transitivity_local_undirected =getattr(network,\"transitivity_local_undirected\")(vertices=None, mode=\"nan\", weights=None)\n",
    "    Diameter =getattr(network,\"diameter\")(directed=True, unconn=True, weights=None)\n",
    "    Density =getattr(network,\"density\")(loops=False)\n",
    "    Diversity =getattr(network,\"diversity\")(vertices=None, weights=None)\n",
    "    Triad_census =getattr(network,\"triad_census\")()\n",
    "    Vertex_connectivity =getattr(network,\"vertex_connectivity\")(source=-1, target=-1, checks=True, neighbors=\"error\")\n",
    "    Similarity_jaccard =getattr(network,\"degree\")()\n",
    "    Similarity_inverse_log_weighted =getattr(network,\"similarity_inverse_log_weighted\")(vertices=None, mode=3)\n",
    "    Similarity_dice =getattr(network,\"similarity_dice\")(vertices=None, pairs=None, mode=3, loops=True)\n",
    "    Assortativity =getattr(network,\"assortativity\")(types1=getattr(network,\"vs\")[\"sex\"], types2=None, directed=True)\n",
    "    Assortativity_degree =getattr(network,\"assortativity_degree\")(directed=True)\n",
    "    Assortativity_nominal =getattr(network,\"assortativity_nominal\")(types=getattr(network,\"vs\")[\"sex\"], directed=True)\n",
    "    Sex =network.vs[\"sex\"]\n",
    "    return  Degree, Betweenness, Transitivity_avglocal_undirected, Transitivity_undirected,\\\n",
    "            Transitivity_local_undirected, Transitivity_local_undirected, Diameter, Density, Diversity, Triad_census,\\\n",
    "            Vertex_connectivity, Similarity_jaccard, Similarity_inverse_log_weighted, Similarity_dice, Assortativity,\\\n",
    "            Assortativity_degree, Assortativity_nominal,Sex\n",
    "\n",
    "def get_network_communities(network):\n",
    "    \"\"\"\n",
    "    IN: Network object\n",
    "    OUT: Detected communities through different algorithms\n",
    "    \"\"\"\n",
    "    Community_infomap =getattr(network,\"community_infomap\")(edge_weights=None, vertex_weights=None, trials=10)\n",
    "    Community_leading_eigenvector =getattr(network,\"community_leading_eigenvector\")(clusters=None, weights=None, arpack_options=None)\n",
    "    Community_label_propagation =getattr(network,\"community_label_propagation\")(weights=None, initial=None, fixed=None)\n",
    "    Community_edge_betweenness =getattr(network,\"community_edge_betweenness\")( clusters=None, directed=True, weights=None)\n",
    "    Community_spinglass =getattr(network,\"community_spinglass\")(weights=None, spins=25, parupdate=False, start_temp=1, stop_temp=0.01, cool_fact=0.99, update_rule=\"config\", gamma=1, implementation=\"orig\", lambda_=1)\n",
    "    Community_walktrap =getattr(network,\"community_walktrap\")( weights=None, steps=4)\n",
    "    return  Community_infomap, Community_leading_eigenvector, Community_label_propagation, \\\n",
    "            Community_edge_betweenness, Community_spinglass, Community_walktrap\n"
   ]
  },
  {
   "cell_type": "code",
   "execution_count": 159,
   "metadata": {
    "ExecuteTime": {
     "end_time": "2018-09-20T15:36:04.554637Z",
     "start_time": "2018-09-20T15:36:04.452343Z"
    },
    "code_folding": [
     0
    ]
   },
   "outputs": [],
   "source": [
    "### Generates parameter for the synthetic networks ###\n",
    "\n",
    "file_ids = [ int(fname.split(\"_\")[0]) for fname in os.listdir(DATA_PATH) if fname.endswith('sex.csv')]\n",
    "Degree_Collect=[]\n",
    "Sex_Collect=[]\n",
    "for file_id in file_ids:\n",
    "    friend_graph,trust_graph = LoadData2Network(file_id)\n",
    "    Degree, Betweenness, Transitivity_avglocal_undirected, Transitivity_undirected,\\\n",
    "    Transitivity_local_undirected, Transitivity_local_undirected, Diameter, Density, Diversity, Triad_census,\\\n",
    "    Vertex_connectivity, Similarity_jaccard, Similarity_inverse_log_weighted, Similarity_dice, Assortativity,\\\n",
    "    Assortativity_degree, Assortativity_nominal,Sex = get_network_param(trust_graph)\n",
    "    Degree_Collect.append(Degree)\n",
    "    Sex_Collect.append(Sex)\n",
    "\n",
    "class_strength= [len(Degree_Collect[i]) for i in range(len(Degree_Collect))]\n",
    "mean_degree=[np.sum(Degree_Collect[i])/class_strength[i] for i in range(len(Degree_Collect))]\n",
    "p_values=[(mean_degree[i]/class_strength[i]) for i in range(len(avg_degree))]"
   ]
  },
  {
   "cell_type": "code",
   "execution_count": 165,
   "metadata": {
    "ExecuteTime": {
     "end_time": "2018-09-20T15:42:44.988917Z",
     "start_time": "2018-09-20T15:42:44.466910Z"
    },
    "code_folding": [
     0,
     1
    ]
   },
   "outputs": [],
   "source": [
    "### Generates synthetic statistics using the Erdos-Renyi random network ###\n",
    "for n,p,s in zip(class_strength,p_values,Sex_Collect):\n",
    "    null_model = Graph.Erdos_Renyi(n,p,directed=True)\n",
    "    null_model.vs['sex']=s\n",
    "    Degree, Betweenness, Transitivity_avglocal_undirected, Transitivity_undirected,\\\n",
    "    Transitivity_local_undirected, Transitivity_local_undirected, Diameter, Density, Diversity, Triad_census,\\\n",
    "    Vertex_connectivity, Similarity_jaccard, Similarity_inverse_log_weighted, Similarity_dice, Assortativity,\\\n",
    "    Assortativity_degree, Assortativity_nominal,Sex = get_network_param(null_model)"
   ]
  }
 ],
 "metadata": {
  "hide_input": false,
  "kernelspec": {
   "display_name": "Python 3",
   "language": "python",
   "name": "python3"
  },
  "language_info": {
   "codemirror_mode": {
    "name": "ipython",
    "version": 3
   },
   "file_extension": ".py",
   "mimetype": "text/x-python",
   "name": "python",
   "nbconvert_exporter": "python",
   "pygments_lexer": "ipython3",
   "version": "3.6.5"
  },
  "toc": {
   "base_numbering": 1,
   "nav_menu": {},
   "number_sections": true,
   "sideBar": true,
   "skip_h1_title": false,
   "title_cell": "Table of Contents",
   "title_sidebar": "Contents",
   "toc_cell": false,
   "toc_position": {},
   "toc_section_display": true,
   "toc_window_display": false
  },
  "varInspector": {
   "cols": {
    "lenName": 16,
    "lenType": 16,
    "lenVar": 40
   },
   "kernels_config": {
    "python": {
     "delete_cmd_postfix": "",
     "delete_cmd_prefix": "del ",
     "library": "var_list.py",
     "varRefreshCmd": "print(var_dic_list())"
    },
    "r": {
     "delete_cmd_postfix": ") ",
     "delete_cmd_prefix": "rm(",
     "library": "var_list.r",
     "varRefreshCmd": "cat(var_dic_list()) "
    }
   },
   "types_to_exclude": [
    "module",
    "function",
    "builtin_function_or_method",
    "instance",
    "_Feature"
   ],
   "window_display": false
  }
 },
 "nbformat": 4,
 "nbformat_minor": 2
}

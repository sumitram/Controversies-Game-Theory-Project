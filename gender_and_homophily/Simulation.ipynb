{
 "cells": [
  {
   "cell_type": "code",
   "execution_count": 9,
   "metadata": {},
   "outputs": [],
   "source": [
    "import os\n",
    "from aux import *\n",
    "# from model import *\n",
    "import numpy as np\n",
    "import pandas as pd\n",
    "import itertools\n",
    "import networkx as nx"
   ]
  },
  {
   "cell_type": "code",
   "execution_count": 10,
   "metadata": {},
   "outputs": [],
   "source": [
    "DATA_PATH = '../Data/'\n",
    "class_ids = sorted([int(file_name.split('_')[0]) for file_name in os.listdir(DATA_PATH) if file_name.endswith('sex.csv')])\n",
    "\n",
    "# Networks and Affective matrices of all classes in wave 1\n",
    "Networks = {}\n",
    "Affective = {}\n",
    "for class_id in class_ids:\n",
    "    Networks[class_id] = LoadData2Network(class_id, 1)\n",
    "    Affective[class_id] = pd.read_csv(DATA_PATH + str(class_id) + '_affective_w1.csv', header = 0, index_col = 0)\n",
    "    "
   ]
  },
  {
   "cell_type": "code",
   "execution_count": 105,
   "metadata": {},
   "outputs": [],
   "source": [
    "PAYOFF_FUNCTION = {('tell a secret', 'tell a secret'): (1, 1),\n",
    "                   ('tell a secret', 'refrain'): (-1, 0),\n",
    "                   ('refrain', 'tell a secret'): (0, -1),\n",
    "                   ('refrain', 'refrain'): (0, 0)}\n"
   ]
  },
  {
   "cell_type": "code",
   "execution_count": 165,
   "metadata": {},
   "outputs": [],
   "source": [
    "class StudentAgent():\n",
    "    def __init__(self, model, idx, gender, trust_agents, affective):\n",
    "        \"\"\"\n",
    "        Create a new agent\n",
    "\n",
    "        Args:\n",
    "            id: unique identifier for the agent\n",
    "            gender: female or male\n",
    "            prob_trust: tendency to trust others (irrespective of gender)\n",
    "            trust_agents: a set of agent ids which the agent trust\n",
    "            affective: a dictionary of affective score rated by each agent keyed by id\n",
    "            strategy: either 'tell a secret' or 'refrain'\n",
    "        \"\"\"\n",
    "\n",
    "        self.model = model\n",
    "        self.id = idx\n",
    "        self.gender = gender\n",
    "        self.trust_agents = trust_agents\n",
    "        self.prob_trust = len(trust_agents) / len(affective)\n",
    "        self.affective = affective\n",
    "        self.strategy = None\n",
    "\n",
    "    def play(self, opponent):\n",
    "        if self.gender == 'female':\n",
    "            bonus_for_gender = self.model.bonus_f2f if self.gender == opponent.gender else 0\n",
    "        else:\n",
    "            bonus_for_gender = self.model.bonus_m2m if self.gender == opponent.gender else 0\n",
    "\n",
    "        bonus_for_friends = self.model.bonus_for_friends if self.affective[str(opponent.id)] == 2 else 0\n",
    "\n",
    "        prob_cooperate = self.prob_trust + bonus_for_gender + bonus_for_friends \\\n",
    "                         if opponent not in self.trust_agents else 1\n",
    "        if prob_cooperate > 1:\n",
    "            prob_cooperate = 1\n",
    "\n",
    "        return np.random.choice(a = ['tell a secret', 'refrain'], p = [prob_cooperate, 1 - prob_cooperate])\n",
    "\n",
    "    def state_update(self):\n",
    "        self.prob_trust = len(self.trust_agents) / len(self.affective)\n"
   ]
  },
  {
   "cell_type": "code",
   "execution_count": 166,
   "metadata": {},
   "outputs": [],
   "source": [
    "\n",
    "class TrustModel():\n",
    "    def __init__(self, trust_network, affective_matrix, \\\n",
    "                 bonus_m2m, bonus_f2f, bonus_for_friends):\n",
    "        \"\"\"\n",
    "        Args:\n",
    "            trust_network: A networkx DiGraph. Edge (A, B) exists iff A trusts B\n",
    "            affective_matrix: A pandas dataframe that has the affective scores from all agents to all agents\n",
    "            bonus_m2m: normalized assortativity coefficient (male, male) interpreted as probability\n",
    "            bonus_f2f: normalized assortativity coefficient (female, female) interpreted as probability\n",
    "            bonus_for_friends: Correlation coefficient between friends and trust\n",
    "        \"\"\"\n",
    "\n",
    "        self.trust_network = trust_network\n",
    "        self.affective_matrix = affective_matrix\n",
    "        self.bonus_m2m = bonus_m2m\n",
    "        self.bonus_f2f = bonus_f2f\n",
    "        self.bonus_for_friends = bonus_for_friends\n",
    "        self.agents = []\n",
    "\n",
    "        for idx, attributes in self.trust_network.nodes(data = True):\n",
    "            trust_agents = [n for n in trust_network.neighbors(idx)]\n",
    "            # Initialize the affective scores from one agent (= id) to all other agents\n",
    "            affective = {}\n",
    "            for column_idx in affective_matrix.loc[[idx]]:\n",
    "                affective[column_idx] = affective_matrix.loc[[idx]][column_idx].values[0]\n",
    "            self.agents.append(StudentAgent(self, idx, attributes['sex'], set(trust_agents), affective))\n",
    "\n",
    "    def step(self):\n",
    "        \"\"\"\n",
    "        At each time step all pairs of agent will interact and play prisoner's dilemma once\n",
    "        \"\"\"\n",
    "\n",
    "        ## Update affective_matrix according the payoff function\n",
    "        for a, b in itertools.combinations(self.agents, 2):\n",
    "            strategy = (a.play(b), b.play(a))\n",
    "            a_payoff, b_payoff = PAYOFF_FUNCTION[strategy]\n",
    "            a.affective[str(b.id)] += a_payoff\n",
    "            b.affective[str(a.id)] += b_payoff\n",
    "\n",
    "            if a.affective[str(b.id)] > 2:\n",
    "                a.affective[str(b.id)] = 2 \n",
    "            if a.affective[str(b.id)] < -2:\n",
    "                a.affective[str(b.id)] = -2\n",
    "\n",
    "            if b.affective[str(a.id)] > 2:\n",
    "                b.affective[str(a.id)] = 2 \n",
    "            if b.affective[str(a.id)] < -2:\n",
    "                b.affective[str(a.id)] = -2 \n",
    "\n",
    "            self.affective_matrix[str(a.id)][str(b.id)] = a.affective[str(b.id)]\n",
    "            self.affective_matrix[str(b.id)][str(a.id)] = b.affective[str(a.id)]  \n",
    "\n",
    "            ## Rewiring in the trust network\n",
    "            # Case 1\n",
    "            if strategy == ('tell a secret', 'tell a secret'):\n",
    "                if (a.affective[str(b.id)] == 2) and (b not in a.trust_agents):\n",
    "                    # If to_trust = 1, we create a new edge from a to b, otherweise unchanged\n",
    "                    to_trust = np.random.choice(a = [0, 1], p = [1 - self.bonus_for_friends, self.bonus_for_friends])\n",
    "                    if to_trust == 1:\n",
    "                        a.trust_agents.add(b.id)\n",
    "                        self.trust_network.add_edge(a.id, b.id)\n",
    "\n",
    "                if (b.affective[str(a.id)] == 2) and (a not in b.trust_agents):\n",
    "                    # If to_trust = 1, we create a new edge from b to a, otherweise unchanged\n",
    "                    to_trust = np.random.choice(a = [0, 1], p = [1 - self.bonus_for_friends, self.bonus_for_friends])\n",
    "                    if to_trust == 1:\n",
    "                        b.trust_agents.add(a.id)\n",
    "                        self.trust_network.add_edge(b.id, a.id)\n",
    "            # Case 3\n",
    "            if strategy == ('refrain', 'tell a secret') and self.trust_network.has_edge(b.id, a.id):\n",
    "                self.trust_network.remove_edge(b.id, a.id)\n",
    "            # Case 4\n",
    "            if strategy == ('tell a secret', 'refrain') and self.trust_network.has_edge(a.id, b.id):\n",
    "                self.trust_network.remove_edge(a.id, b.id)\n",
    "\n",
    "            ## Update prob_trust of both agents\n",
    "            a.state_update()\n",
    "            b.state_update()\n",
    "            \n",
    "        return self.trust_network"
   ]
  },
  {
   "cell_type": "code",
   "execution_count": 167,
   "metadata": {},
   "outputs": [],
   "source": [
    "# Set parameters\n",
    "NUM_STEP = 6\n",
    "bonus_m2m = 0.3\n",
    "bonus_f2f = 0.3\n",
    "bonus_for_friends = 0.5"
   ]
  },
  {
   "cell_type": "code",
   "execution_count": 168,
   "metadata": {},
   "outputs": [],
   "source": [
    "def run(num_step, trust_network, affective_matrix, bonus_m2m, bonus_f2f, bonus_for_friends):\n",
    "    model = TrustModel(trust_network = trust_network, affective_matrix = affective_matrix, \\\n",
    "                       bonus_m2m = bonus_m2m, bonus_f2f = bonus_f2f, bonus_for_friends = bonus_for_friends)\n",
    "\n",
    "    networks = []\n",
    "    current_step = 0\n",
    "    while (current_step < num_step):\n",
    "        networks.append(model.step())\n",
    "        current_step += 1\n",
    "\n",
    "    return networks"
   ]
  },
  {
   "cell_type": "code",
   "execution_count": 170,
   "metadata": {},
   "outputs": [
    {
     "name": "stdout",
     "output_type": "stream",
     "text": [
      "[<networkx.classes.digraph.DiGraph object at 0x1153345c0>, <networkx.classes.digraph.DiGraph object at 0x1153345c0>, <networkx.classes.digraph.DiGraph object at 0x1153345c0>, <networkx.classes.digraph.DiGraph object at 0x1153345c0>, <networkx.classes.digraph.DiGraph object at 0x1153345c0>, <networkx.classes.digraph.DiGraph object at 0x1153345c0>]\n"
     ]
    }
   ],
   "source": [
    "network = Networks[1100]\n",
    "affective_matrix = Affective[1100]\n",
    "\n",
    "simulated_networks = run(NUM_STEP, network, affective_matrix, bonus_m2m, bonus_f2f, bonus_for_friends)\n",
    "\n",
    "print(simulated_networks)"
   ]
  },
  {
   "cell_type": "code",
   "execution_count": null,
   "metadata": {},
   "outputs": [],
   "source": [
    "def visualize(network):\n",
    "    females = [idx for idx, sex in nx.get_node_attributes(network, 'sex').items() if sex == 'female']\n",
    "    males = [idx for idx, sex in nx.get_node_attributes(network, 'sex').items() if sex == 'male']\n",
    "\n",
    "    # Draw network in bipartite layout, removing edges between female agents or male agents\n",
    "\n",
    "    # Draw network of only male agents \n",
    "    male_network = network.subgraph(males)\n",
    "\n",
    "    # Draw network of only female agents\n",
    "    female_network = network.subgraph(females)"
   ]
  },
  {
   "cell_type": "code",
   "execution_count": null,
   "metadata": {},
   "outputs": [],
   "source": []
  }
 ],
 "metadata": {
  "kernelspec": {
   "display_name": "Python 3",
   "language": "python",
   "name": "python3"
  },
  "language_info": {
   "codemirror_mode": {
    "name": "ipython",
    "version": 3
   },
   "file_extension": ".py",
   "mimetype": "text/x-python",
   "name": "python",
   "nbconvert_exporter": "python",
   "pygments_lexer": "ipython3",
   "version": "3.6.5"
  }
 },
 "nbformat": 4,
 "nbformat_minor": 2
}

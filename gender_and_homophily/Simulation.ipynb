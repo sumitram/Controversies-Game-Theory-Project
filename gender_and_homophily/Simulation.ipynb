{
 "cells": [
  {
   "cell_type": "code",
   "execution_count": 7,
   "metadata": {},
   "outputs": [],
   "source": [
    "import os\n",
    "from aux import *\n",
    "from model import *"
   ]
  },
  {
   "cell_type": "code",
   "execution_count": 8,
   "metadata": {},
   "outputs": [],
   "source": [
    "DATA_PATH = '../Data/'\n",
    "class_ids = sorted([int(file_name.split(\"_\")[0]) for file_name in os.listdir(DATA_PATH) if file_name.endswith('sex.csv')])\n",
    "                   \n",
    "# Networks of all classes in wave 1\n",
    "NETWORKS = {}\n",
    "for class_id in class_ids:\n",
    "    NETWORKS[class_id] = LoadData2Network(class_id, 1)"
   ]
  },
  {
   "cell_type": "code",
   "execution_count": null,
   "metadata": {},
   "outputs": [],
   "source": [
    "# Set parameters\n",
    "NUM_STEP = 6\n",
    "\n",
    "CORR_FRIEND_TRUST = 0.5\n",
    "bonus_m2m = 0.3\n",
    "bonus_f2f = 0.3\n",
    "bonus_for_friends = 0.5\n",
    "\n",
    "\n",
    "#run(num_step, trust_network, affective_matrix, corr_friend_trust, bonus_m2m, bonus_f2f, bonus_for_friends)"
   ]
  },
  {
   "cell_type": "code",
   "execution_count": null,
   "metadata": {},
   "outputs": [],
   "source": [
    "def run(num_step, trust_network, affective_matrix, corr_friend_trust, bonus_m2m, bonus_f2f, bonus_for_friends):\n",
    "    model = TrustModel(trust_network = trust_network, affective_matrix = affective_matrix, \\\n",
    "                       corr_friend_trust = corr_friend_trust, bonus_m2m = bonus_m2m, \\\n",
    "                       bonus_f2f = bonus_f2f, bonus_for_friends = bonus_for_friends)\n",
    "\n",
    "    networks = []\n",
    "    current_step = 0\n",
    "    while (current_step < num_step):\n",
    "        networks.append(model.step())\n",
    "        current_step += 1\n",
    "\n",
    "    return networks"
   ]
  }
 ],
 "metadata": {
  "kernelspec": {
   "display_name": "Python 3",
   "language": "python",
   "name": "python3"
  },
  "language_info": {
   "codemirror_mode": {
    "name": "ipython",
    "version": 3
   },
   "file_extension": ".py",
   "mimetype": "text/x-python",
   "name": "python",
   "nbconvert_exporter": "python",
   "pygments_lexer": "ipython3",
   "version": "3.6.5"
  }
 },
 "nbformat": 4,
 "nbformat_minor": 2
}

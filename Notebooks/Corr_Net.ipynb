{
 "cells": [
  {
   "cell_type": "code",
   "execution_count": 24,
   "metadata": {
    "ExecuteTime": {
     "end_time": "2018-09-25T16:26:03.595558Z",
     "start_time": "2018-09-25T16:26:03.592957Z"
    }
   },
   "outputs": [],
   "source": [
    "import numpy as np\n",
    "import pandas as pd"
   ]
  },
  {
   "cell_type": "code",
   "execution_count": 25,
   "metadata": {
    "ExecuteTime": {
     "end_time": "2018-09-25T16:26:04.363687Z",
     "start_time": "2018-09-25T16:26:04.361057Z"
    }
   },
   "outputs": [],
   "source": [
    "DATA_PATH=\"Data/\""
   ]
  },
  {
   "cell_type": "code",
   "execution_count": 11,
   "metadata": {
    "collapsed": true
   },
   "outputs": [
    {
     "data": {
      "text/plain": [
       "array([[ 0.,  0.,  0.,  0.,  0.,  0.,  0.,  0.,  0.,  0.,  0.,  0.,  0.,\n",
       "         0.,  0.,  0.,  0.,  0.,  0.,  0.,  0.,  0.,  0.,  1.,  1.,  0.,\n",
       "         1.,  0.,  1.,  0.,  0.],\n",
       "       [ 0.,  0.,  0.,  0.,  0.,  0.,  0.,  0.,  0.,  0.,  0.,  0.,  0.,\n",
       "         0.,  0.,  0.,  0.,  0.,  1.,  1.,  0.,  1.,  0.,  0.,  0.,  1.,\n",
       "         1.,  0.,  0.,  0.,  0.],\n",
       "       [ 0.,  0.,  0.,  0.,  0.,  0.,  0.,  0.,  0.,  0.,  1.,  0.,  0.,\n",
       "         0.,  0.,  1.,  1.,  0.,  0.,  0.,  0.,  0.,  0.,  0.,  0.,  0.,\n",
       "         0.,  0.,  0.,  0.,  0.],\n",
       "       [ 0.,  0.,  0.,  0.,  0.,  0.,  0.,  0.,  0.,  0.,  0.,  0.,  0.,\n",
       "         0.,  0.,  0.,  0.,  0.,  0.,  0.,  0.,  0.,  0.,  0.,  0.,  0.,\n",
       "         0.,  0.,  0.,  0.,  0.],\n",
       "       [ 1.,  0.,  0.,  0.,  0.,  0.,  0.,  0.,  0.,  0.,  0.,  1.,  0.,\n",
       "         1.,  1.,  0.,  0.,  0.,  0.,  0.,  0.,  0.,  1.,  0.,  1.,  0.,\n",
       "         1.,  0.,  0.,  0.,  0.],\n",
       "       [ 0.,  0.,  0.,  0.,  0.,  0.,  0.,  0.,  0.,  0.,  0.,  0.,  0.,\n",
       "         0.,  0.,  0.,  0.,  0.,  0.,  0.,  0.,  0.,  0.,  0.,  0.,  0.,\n",
       "         0.,  0.,  0.,  0.,  0.],\n",
       "       [ 0.,  0.,  0.,  0.,  0.,  0.,  0.,  0.,  0.,  0.,  1.,  0.,  0.,\n",
       "         0.,  0.,  0.,  0.,  0.,  0.,  0.,  0.,  0.,  0.,  0.,  0.,  0.,\n",
       "         0.,  0.,  0.,  0.,  0.],\n",
       "       [ 0.,  0.,  0.,  1.,  0.,  0.,  0.,  0.,  0.,  0.,  0.,  0.,  0.,\n",
       "         0.,  0.,  0.,  0.,  0.,  0.,  0.,  0.,  0.,  0.,  0.,  0.,  0.,\n",
       "         0.,  0.,  0.,  0.,  0.],\n",
       "       [ 0.,  0.,  0.,  0.,  0.,  1.,  0.,  0.,  0.,  0.,  0.,  0.,  0.,\n",
       "         0.,  0.,  0.,  0.,  0.,  0.,  0.,  0.,  0.,  0.,  0.,  0.,  0.,\n",
       "         0.,  0.,  0.,  0.,  0.],\n",
       "       [ 0.,  0.,  0.,  0.,  0.,  0.,  0.,  0.,  0.,  0.,  0.,  0.,  0.,\n",
       "         0.,  0.,  0.,  0.,  0.,  0.,  0.,  0.,  0.,  0.,  0.,  0.,  0.,\n",
       "         0.,  0.,  0.,  0.,  0.],\n",
       "       [ 0.,  0.,  0.,  0.,  0.,  0.,  0.,  0.,  0.,  0.,  0.,  0.,  0.,\n",
       "         0.,  0.,  0.,  0.,  1.,  0.,  0.,  0.,  0.,  0.,  0.,  0.,  0.,\n",
       "         0.,  0.,  0.,  0.,  0.],\n",
       "       [ 1.,  1.,  0.,  0.,  1.,  0.,  1.,  0.,  0.,  0.,  0.,  0.,  0.,\n",
       "         1.,  0.,  0.,  0.,  0.,  0.,  0.,  0.,  0.,  0.,  0.,  1.,  1.,\n",
       "         1.,  0.,  0.,  1.,  0.],\n",
       "       [ 0.,  0.,  0.,  0.,  0.,  0.,  0.,  0.,  0.,  0.,  0.,  0.,  0.,\n",
       "         0.,  0.,  0.,  0.,  0.,  0.,  0.,  0.,  0.,  0.,  0.,  0.,  0.,\n",
       "         0.,  0.,  0.,  0.,  0.],\n",
       "       [ 0.,  0.,  0.,  0.,  0.,  0.,  0.,  0.,  0.,  0.,  0.,  1.,  0.,\n",
       "         0.,  0.,  0.,  0.,  0.,  0.,  0.,  0.,  0.,  0.,  0.,  0.,  0.,\n",
       "         0.,  0.,  0.,  1.,  0.],\n",
       "       [ 0.,  0.,  0.,  0.,  1.,  0.,  0.,  0.,  0.,  0.,  0.,  0.,  0.,\n",
       "         0.,  0.,  0.,  0.,  0.,  0.,  0.,  0.,  0.,  1.,  0.,  0.,  0.,\n",
       "         0.,  1.,  0.,  0.,  0.],\n",
       "       [ 1.,  0.,  0.,  0.,  0.,  0.,  0.,  0.,  0.,  0.,  0.,  1.,  0.,\n",
       "         0.,  0.,  0.,  1.,  0.,  0.,  0.,  0.,  0.,  0.,  0.,  1.,  0.,\n",
       "         1.,  0.,  0.,  0.,  0.],\n",
       "       [ 0.,  0.,  0.,  0.,  0.,  0.,  0.,  0.,  0.,  0.,  0.,  0.,  0.,\n",
       "         0.,  0.,  1.,  0.,  0.,  0.,  0.,  0.,  0.,  0.,  0.,  1.,  0.,\n",
       "         0.,  0.,  0.,  0.,  0.],\n",
       "       [ 0.,  0.,  0.,  0.,  0.,  0.,  1.,  0.,  0.,  0.,  1.,  0.,  0.,\n",
       "         0.,  0.,  0.,  0.,  0.,  0.,  0.,  0.,  0.,  0.,  0.,  0.,  0.,\n",
       "         0.,  0.,  0.,  0.,  0.],\n",
       "       [ 0.,  0.,  0.,  0.,  0.,  0.,  0.,  0.,  0.,  0.,  0.,  0.,  0.,\n",
       "         0.,  0.,  0.,  0.,  0.,  0.,  1.,  0.,  1.,  0.,  0.,  0.,  0.,\n",
       "         0.,  1.,  0.,  0.,  0.],\n",
       "       [ 0.,  0.,  0.,  0.,  0.,  0.,  0.,  0.,  0.,  0.,  0.,  0.,  0.,\n",
       "         0.,  0.,  0.,  0.,  0.,  1.,  0.,  0.,  1.,  0.,  0.,  0.,  0.,\n",
       "         0.,  0.,  0.,  0.,  0.],\n",
       "       [ 0.,  0.,  0.,  0.,  0.,  0.,  0.,  0.,  0.,  0.,  0.,  0.,  0.,\n",
       "         0.,  0.,  0.,  0.,  0.,  0.,  0.,  0.,  0.,  0.,  0.,  0.,  0.,\n",
       "         0.,  0.,  0.,  0.,  0.],\n",
       "       [ 0.,  0.,  0.,  0.,  0.,  0.,  0.,  0.,  0.,  0.,  0.,  0.,  0.,\n",
       "         0.,  0.,  0.,  0.,  0.,  1.,  1.,  0.,  0.,  0.,  0.,  0.,  0.,\n",
       "         0.,  0.,  0.,  0.,  0.],\n",
       "       [ 0.,  0.,  0.,  0.,  0.,  0.,  0.,  0.,  0.,  0.,  0.,  0.,  0.,\n",
       "         0.,  0.,  0.,  0.,  0.,  0.,  0.,  0.,  0.,  0.,  0.,  0.,  0.,\n",
       "         0.,  0.,  0.,  0.,  0.],\n",
       "       [ 0.,  0.,  0.,  0.,  0.,  0.,  0.,  0.,  0.,  0.,  0.,  0.,  0.,\n",
       "         0.,  0.,  1.,  1.,  0.,  0.,  0.,  0.,  0.,  0.,  0.,  1.,  0.,\n",
       "         1.,  0.,  1.,  0.,  0.],\n",
       "       [ 1.,  0.,  0.,  0.,  0.,  0.,  0.,  0.,  0.,  0.,  0.,  1.,  0.,\n",
       "         1.,  0.,  1.,  1.,  0.,  0.,  0.,  0.,  0.,  0.,  0.,  0.,  0.,\n",
       "         1.,  0.,  0.,  1.,  0.],\n",
       "       [ 0.,  0.,  0.,  0.,  0.,  0.,  0.,  0.,  0.,  0.,  0.,  0.,  0.,\n",
       "         0.,  0.,  0.,  0.,  0.,  0.,  0.,  0.,  0.,  0.,  0.,  0.,  0.,\n",
       "         0.,  0.,  0.,  0.,  0.],\n",
       "       [ 1.,  0.,  0.,  0.,  0.,  0.,  0.,  0.,  0.,  0.,  0.,  0.,  0.,\n",
       "         0.,  0.,  0.,  0.,  0.,  0.,  0.,  0.,  0.,  0.,  0.,  0.,  0.,\n",
       "         0.,  0.,  1.,  0.,  0.],\n",
       "       [ 0.,  0.,  0.,  0.,  0.,  0.,  0.,  0.,  0.,  0.,  0.,  0.,  0.,\n",
       "         0.,  0.,  0.,  0.,  0.,  0.,  0.,  0.,  0.,  0.,  0.,  0.,  0.,\n",
       "         0.,  0.,  0.,  0.,  0.],\n",
       "       [ 1.,  0.,  0.,  0.,  0.,  0.,  0.,  0.,  0.,  0.,  0.,  0.,  0.,\n",
       "         0.,  1.,  1.,  0.,  0.,  0.,  0.,  0.,  0.,  0.,  1.,  1.,  1.,\n",
       "         1.,  0.,  0.,  0.,  0.],\n",
       "       [ 1.,  0.,  0.,  0.,  0.,  0.,  0.,  0.,  0.,  0.,  0.,  0.,  0.,\n",
       "         0.,  0.,  0.,  0.,  0.,  0.,  0.,  0.,  0.,  0.,  0.,  0.,  0.,\n",
       "         0.,  0.,  0.,  0.,  0.],\n",
       "       [ 0.,  0.,  0.,  0.,  0.,  1.,  0.,  0.,  0.,  0.,  0.,  0.,  0.,\n",
       "         0.,  0.,  0.,  0.,  0.,  0.,  0.,  0.,  0.,  0.,  0.,  0.,  0.,\n",
       "         0.,  0.,  0.,  0.,  0.]])"
      ]
     },
     "execution_count": 11,
     "metadata": {},
     "output_type": "execute_result"
    }
   ],
   "source": [
    "data_file=\"1100_trust_w1.csv\"\n",
    "#pd.read_csv(DATA_PATH+data_file)\n",
    "trust      =pd.read_csv(DATA_PATH+data_file,index_col=0)\n",
    "trust=trust.fillna(0)\n",
    "trust.as_matrix()"
   ]
  },
  {
   "cell_type": "code",
   "execution_count": 35,
   "metadata": {
    "collapsed": true
   },
   "outputs": [
    {
     "data": {
      "text/plain": [
       "array([[ 0.,  0.,  0.,  0.,  0.,  0.,  0.,  0.,  0.,  0.,  0.,  1.,  0.,\n",
       "         0.,  0.,  1.,  1.,  0.,  0.,  0.,  0.,  0.,  0.,  1.,  1.,  0.,\n",
       "         1.,  0.,  1.,  0.,  0.],\n",
       "       [ 0.,  0.,  0.,  0.,  0.,  0.,  0.,  0.,  0.,  0.,  0.,  0.,  0.,\n",
       "         0.,  0.,  0.,  0.,  0.,  1.,  1.,  0.,  1.,  0.,  0.,  0.,  0.,\n",
       "         0.,  0.,  0.,  0.,  0.],\n",
       "       [ 0.,  0.,  0.,  0.,  0.,  0.,  0.,  0.,  0.,  0.,  0.,  0.,  0.,\n",
       "         0.,  0.,  1.,  1.,  0.,  0.,  0.,  0.,  0.,  0.,  0.,  0.,  0.,\n",
       "         0.,  0.,  0.,  0.,  0.],\n",
       "       [ 0.,  0.,  0.,  0.,  0.,  1.,  0.,  1.,  1.,  1.,  0.,  0.,  1.,\n",
       "         0.,  0.,  0.,  0.,  0.,  1.,  1.,  0.,  1.,  0.,  0.,  0.,  0.,\n",
       "         0.,  0.,  0.,  0.,  1.],\n",
       "       [ 0.,  0.,  0.,  0.,  0.,  0.,  0.,  0.,  0.,  0.,  0.,  0.,  0.,\n",
       "         0.,  1.,  0.,  0.,  0.,  0.,  0.,  0.,  0.,  0.,  0.,  0.,  0.,\n",
       "         0.,  0.,  0.,  0.,  0.],\n",
       "       [ 0.,  0.,  0.,  1.,  0.,  0.,  0.,  1.,  1.,  1.,  0.,  0.,  1.,\n",
       "         0.,  0.,  0.,  0.,  0.,  1.,  1.,  0.,  1.,  0.,  0.,  0.,  0.,\n",
       "         0.,  0.,  0.,  0.,  1.],\n",
       "       [ 0.,  0.,  0.,  0.,  0.,  0.,  0.,  0.,  0.,  0.,  1.,  0.,  0.,\n",
       "         0.,  0.,  0.,  0.,  1.,  0.,  0.,  0.,  0.,  0.,  0.,  0.,  0.,\n",
       "         0.,  0.,  0.,  0.,  0.],\n",
       "       [ 0.,  0.,  0.,  1.,  0.,  1.,  0.,  0.,  0.,  1.,  0.,  0.,  0.,\n",
       "         0.,  0.,  0.,  0.,  0.,  0.,  0.,  0.,  0.,  0.,  0.,  0.,  0.,\n",
       "         0.,  0.,  0.,  0.,  0.],\n",
       "       [ 0.,  0.,  0.,  1.,  0.,  1.,  0.,  0.,  0.,  1.,  0.,  0.,  0.,\n",
       "         0.,  0.,  0.,  0.,  0.,  0.,  1.,  0.,  0.,  0.,  0.,  0.,  0.,\n",
       "         0.,  1.,  0.,  0.,  0.],\n",
       "       [ 0.,  0.,  0.,  1.,  0.,  1.,  0.,  1.,  1.,  0.,  0.,  0.,  1.,\n",
       "         0.,  0.,  0.,  0.,  0.,  0.,  0.,  0.,  0.,  0.,  0.,  0.,  0.,\n",
       "         0.,  0.,  0.,  0.,  0.],\n",
       "       [ 0.,  0.,  0.,  0.,  0.,  0.,  1.,  0.,  0.,  0.,  0.,  0.,  0.,\n",
       "         0.,  0.,  0.,  0.,  1.,  0.,  0.,  0.,  0.,  0.,  0.,  0.,  1.,\n",
       "         0.,  0.,  0.,  0.,  0.],\n",
       "       [ 0.,  0.,  0.,  0.,  1.,  0.,  0.,  0.,  0.,  0.,  0.,  0.,  0.,\n",
       "         1.,  0.,  1.,  1.,  0.,  0.,  0.,  0.,  0.,  0.,  0.,  1.,  0.,\n",
       "         0.,  0.,  0.,  1.,  0.],\n",
       "       [ 0.,  0.,  0.,  0.,  0.,  0.,  0.,  0.,  0.,  1.,  0.,  0.,  0.,\n",
       "         0.,  0.,  0.,  0.,  0.,  0.,  0.,  0.,  0.,  0.,  0.,  0.,  0.,\n",
       "         0.,  0.,  0.,  0.,  0.],\n",
       "       [ 0.,  0.,  0.,  0.,  0.,  0.,  0.,  0.,  0.,  0.,  0.,  1.,  0.,\n",
       "         0.,  0.,  0.,  0.,  0.,  0.,  0.,  0.,  0.,  0.,  0.,  1.,  0.,\n",
       "         0.,  0.,  0.,  1.,  0.],\n",
       "       [ 0.,  0.,  0.,  0.,  1.,  0.,  0.,  0.,  0.,  0.,  0.,  0.,  0.,\n",
       "         0.,  0.,  0.,  0.,  0.,  0.,  0.,  0.,  0.,  1.,  0.,  0.,  0.,\n",
       "         1.,  0.,  0.,  0.,  0.],\n",
       "       [ 1.,  0.,  1.,  0.,  0.,  0.,  0.,  0.,  0.,  0.,  0.,  1.,  0.,\n",
       "         1.,  0.,  0.,  1.,  0.,  0.,  0.,  1.,  0.,  0.,  1.,  1.,  1.,\n",
       "         1.,  0.,  1.,  1.,  0.],\n",
       "       [ 1.,  0.,  1.,  0.,  0.,  0.,  0.,  0.,  0.,  0.,  0.,  1.,  0.,\n",
       "         1.,  0.,  1.,  0.,  0.,  0.,  0.,  0.,  0.,  0.,  1.,  1.,  0.,\n",
       "         0.,  0.,  0.,  0.,  0.],\n",
       "       [ 0.,  0.,  0.,  0.,  0.,  0.,  1.,  0.,  0.,  0.,  1.,  0.,  0.,\n",
       "         0.,  0.,  0.,  0.,  0.,  0.,  0.,  0.,  0.,  0.,  0.,  0.,  0.,\n",
       "         0.,  0.,  0.,  0.,  0.],\n",
       "       [ 0.,  0.,  0.,  0.,  0.,  0.,  0.,  0.,  1.,  0.,  0.,  0.,  0.,\n",
       "         0.,  0.,  0.,  0.,  0.,  0.,  1.,  0.,  1.,  0.,  0.,  0.,  0.,\n",
       "         0.,  1.,  0.,  0.,  0.],\n",
       "       [ 0.,  0.,  0.,  0.,  0.,  1.,  0.,  0.,  1.,  0.,  0.,  0.,  0.,\n",
       "         0.,  0.,  0.,  0.,  0.,  1.,  0.,  1.,  1.,  0.,  0.,  0.,  0.,\n",
       "         0.,  0.,  0.,  0.,  0.],\n",
       "       [ 0.,  0.,  0.,  0.,  0.,  0.,  0.,  0.,  0.,  0.,  0.,  0.,  0.,\n",
       "         0.,  0.,  0.,  0.,  0.,  0.,  0.,  0.,  0.,  0.,  0.,  0.,  0.,\n",
       "         0.,  0.,  0.,  0.,  0.],\n",
       "       [ 0.,  1.,  0.,  0.,  0.,  0.,  0.,  0.,  0.,  0.,  0.,  0.,  0.,\n",
       "         0.,  0.,  0.,  0.,  0.,  1.,  1.,  0.,  0.,  0.,  0.,  0.,  0.,\n",
       "         0.,  0.,  0.,  0.,  0.],\n",
       "       [ 0.,  0.,  0.,  0.,  1.,  0.,  0.,  0.,  0.,  0.,  0.,  0.,  0.,\n",
       "         0.,  1.,  1.,  1.,  0.,  0.,  0.,  0.,  0.,  0.,  1.,  1.,  0.,\n",
       "         1.,  0.,  1.,  0.,  0.],\n",
       "       [ 1.,  0.,  0.,  0.,  0.,  0.,  0.,  0.,  0.,  0.,  0.,  0.,  0.,\n",
       "         0.,  0.,  0.,  0.,  0.,  0.,  0.,  0.,  0.,  0.,  0.,  0.,  0.,\n",
       "         1.,  0.,  1.,  0.,  0.],\n",
       "       [ 0.,  0.,  0.,  0.,  0.,  0.,  0.,  0.,  0.,  0.,  0.,  1.,  0.,\n",
       "         1.,  0.,  1.,  1.,  0.,  0.,  0.,  0.,  0.,  0.,  1.,  0.,  0.,\n",
       "         1.,  0.,  0.,  1.,  0.],\n",
       "       [ 0.,  0.,  0.,  0.,  0.,  0.,  0.,  0.,  0.,  0.,  1.,  0.,  0.,\n",
       "         0.,  0.,  1.,  0.,  0.,  0.,  0.,  0.,  0.,  0.,  0.,  0.,  0.,\n",
       "         0.,  0.,  1.,  0.,  0.],\n",
       "       [ 1.,  0.,  0.,  0.,  0.,  0.,  0.,  0.,  0.,  0.,  0.,  0.,  0.,\n",
       "         0.,  0.,  0.,  0.,  0.,  0.,  0.,  0.,  0.,  0.,  1.,  0.,  0.,\n",
       "         0.,  0.,  1.,  0.,  0.],\n",
       "       [ 0.,  0.,  0.,  0.,  0.,  0.,  0.,  0.,  0.,  0.,  0.,  0.,  0.,\n",
       "         0.,  0.,  0.,  0.,  0.,  0.,  0.,  0.,  0.,  0.,  0.,  0.,  0.,\n",
       "         0.,  0.,  0.,  0.,  0.],\n",
       "       [ 1.,  0.,  0.,  0.,  0.,  0.,  0.,  0.,  0.,  0.,  0.,  0.,  0.,\n",
       "         0.,  0.,  0.,  0.,  0.,  0.,  0.,  0.,  0.,  0.,  1.,  0.,  1.,\n",
       "         1.,  0.,  0.,  0.,  0.],\n",
       "       [ 0.,  0.,  0.,  0.,  0.,  0.,  0.,  0.,  0.,  0.,  0.,  1.,  0.,\n",
       "         1.,  0.,  1.,  1.,  0.,  0.,  0.,  0.,  0.,  0.,  1.,  1.,  0.,\n",
       "         1.,  0.,  0.,  0.,  0.],\n",
       "       [ 0.,  0.,  0.,  0.,  0.,  0.,  0.,  0.,  0.,  0.,  0.,  0.,  0.,\n",
       "         0.,  0.,  0.,  0.,  0.,  0.,  0.,  0.,  0.,  0.,  0.,  0.,  0.,\n",
       "         0.,  0.,  0.,  0.,  0.]])"
      ]
     },
     "execution_count": 35,
     "metadata": {},
     "output_type": "execute_result"
    }
   ],
   "source": [
    "friendshipMAT2"
   ]
  },
  {
   "cell_type": "code",
   "execution_count": 33,
   "metadata": {
    "collapsed": true
   },
   "outputs": [
    {
     "data": {
      "text/plain": [
       "array([[ 0.,  0.,  0.,  0.,  0.,  0.,  0., -0., -0., -0.,  0.,  0.,  0.,\n",
       "         0.,  0.,  0.,  0., -0.,  0.,  0., -0.,  0.,  0.,  0.,  0.,  0.,\n",
       "         0.,  0.,  0.,  0.,  0.],\n",
       "       [ 0.,  0.,  0.,  0.,  0.,  0., -2., -0.,  0.,  0.,  0.,  0.,  0.,\n",
       "         0., -0.,  0.,  0., -2.,  0.,  0., -0.,  0.,  0.,  0.,  0.,  0.,\n",
       "         0.,  0.,  0., -0., -0.],\n",
       "       [ 0.,  0.,  0.,  0.,  0.,  0.,  0.,  0.,  0.,  0.,  0.,  0.,  0.,\n",
       "        -2.,  0.,  0.,  0.,  0.,  0.,  0.,  0.,  0.,  0., -0.,  0.,  0.,\n",
       "         0.,  0.,  0.,  0.,  0.],\n",
       "       [ 0.,  0.,  0.,  0.,  0.,  0.,  0.,  0.,  0.,  0.,  0.,  0.,  0.,\n",
       "         0.,  0.,  0.,  0., -0.,  0.,  0.,  0.,  0.,  0.,  0.,  0., -0.,\n",
       "         0.,  0.,  0.,  0.,  0.],\n",
       "       [ 0.,  0.,  0.,  0.,  0.,  0.,  0.,  0.,  0.,  0.,  0.,  0.,  0.,\n",
       "         0.,  0.,  0.,  0., -0.,  0.,  0.,  0.,  0.,  0.,  0.,  0.,  0.,\n",
       "         0., -0.,  0.,  0.,  0.],\n",
       "       [ 0.,  0.,  0.,  0.,  0.,  0.,  0.,  0.,  0.,  0.,  0.,  0.,  0.,\n",
       "         0.,  0.,  0.,  0.,  0.,  0.,  0.,  0.,  0.,  0.,  0.,  0.,  0.,\n",
       "         0.,  0.,  0.,  0.,  0.],\n",
       "       [ 0., -2.,  0.,  0.,  0.,  0.,  0., -0.,  0.,  0.,  0.,  0.,  0.,\n",
       "         0., -0.,  0.,  0.,  0.,  0.,  0.,  0., -0.,  0.,  0.,  0.,  0.,\n",
       "         0.,  0.,  0.,  0.,  0.],\n",
       "       [ 0.,  0., -0.,  0.,  0.,  0.,  0.,  0.,  0.,  0.,  0.,  0.,  0.,\n",
       "         0.,  0.,  0.,  0., -0.,  0.,  0.,  0.,  0.,  0.,  0.,  0.,  0.,\n",
       "         0.,  0.,  0.,  0.,  0.],\n",
       "       [ 0.,  0.,  0.,  0.,  0.,  0.,  0.,  0.,  0.,  0.,  0.,  0.,  0.,\n",
       "         0., -0.,  0.,  0., -0.,  0.,  0.,  0.,  0.,  0.,  0.,  0.,  0.,\n",
       "         0.,  0.,  0.,  0.,  0.],\n",
       "       [-2.,  0.,  0.,  0.,  0.,  0.,  0.,  0.,  0.,  0.,  0.,  0.,  0.,\n",
       "         0., -2.,  0.,  0., -2.,  0.,  0.,  0.,  0.,  0.,  0.,  0.,  0.,\n",
       "         0.,  0.,  0.,  0.,  0.],\n",
       "       [ 0.,  0.,  0.,  0.,  0.,  0.,  0.,  0.,  0.,  0.,  0.,  0.,  0.,\n",
       "         0.,  0.,  0.,  0.,  0.,  0.,  0.,  0., -0.,  0., -0.,  0.,  0.,\n",
       "         0.,  0.,  0.,  0.,  0.],\n",
       "       [ 0.,  0.,  0.,  0.,  0.,  0.,  0., -0.,  0.,  0., -0.,  0.,  0.,\n",
       "         0.,  0.,  0.,  0.,  0.,  0.,  0.,  0.,  0.,  0.,  0.,  0.,  0.,\n",
       "         0.,  0.,  0.,  0.,  0.],\n",
       "       [-2.,  0.,  0.,  0.,  0.,  0.,  0.,  0.,  0.,  0.,  0.,  0.,  0.,\n",
       "         0., -0.,  0.,  0., -0.,  0.,  0.,  0.,  0.,  0.,  0.,  0.,  0.,\n",
       "         0.,  0.,  0.,  0., -0.],\n",
       "       [ 0.,  0., -0.,  0.,  0.,  0.,  0.,  0.,  0.,  0., -0.,  0.,  0.,\n",
       "         0.,  0.,  0.,  0.,  0.,  0.,  0.,  0.,  0.,  0.,  0.,  0.,  0.,\n",
       "         0.,  0.,  0.,  0.,  0.],\n",
       "       [ 0.,  0.,  0.,  0.,  0.,  0.,  0.,  0.,  0.,  0.,  0.,  0.,  0.,\n",
       "         0.,  0.,  0.,  0., -0.,  0.,  0.,  0.,  0.,  0.,  0.,  0.,  0.,\n",
       "         0.,  0.,  0.,  0.,  0.],\n",
       "       [ 0.,  0.,  0.,  0.,  0.,  0.,  0.,  0.,  0.,  0.,  0.,  0.,  0.,\n",
       "         0.,  0.,  0.,  0.,  0.,  0.,  0.,  0.,  0.,  0.,  0.,  0.,  0.,\n",
       "         0.,  0.,  0.,  0.,  0.],\n",
       "       [ 0.,  0.,  0.,  0.,  0.,  0.,  0.,  0.,  0.,  0.,  0.,  0.,  0.,\n",
       "         0.,  0.,  0.,  0.,  0.,  0.,  0.,  0.,  0.,  0.,  0.,  0.,  0.,\n",
       "         0.,  0.,  0.,  0.,  0.],\n",
       "       [ 0.,  0.,  0.,  0.,  0.,  0.,  0., -2., -0., -2.,  0.,  0.,  0.,\n",
       "         0.,  0.,  0.,  0.,  0.,  0.,  0., -2.,  0.,  0.,  0.,  0.,  0.,\n",
       "        -2., -2.,  0., -0.,  0.],\n",
       "       [ 0.,  0.,  0.,  0.,  0.,  0.,  0.,  0.,  0.,  0.,  0.,  0.,  0.,\n",
       "         0., -2.,  0.,  0.,  0.,  0.,  0., -0.,  0.,  0.,  0.,  0.,  0.,\n",
       "         0.,  0.,  0.,  0., -2.],\n",
       "       [ 0.,  0.,  0.,  0.,  0.,  0.,  0.,  0.,  0.,  0.,  0.,  0.,  0.,\n",
       "         0., -2.,  0.,  0.,  0.,  0.,  0.,  0.,  0.,  0.,  0.,  0.,  0.,\n",
       "         0.,  0.,  0.,  0., -2.],\n",
       "       [ 0.,  0.,  0.,  0.,  0.,  0.,  0.,  0.,  0.,  0.,  0.,  0.,  0.,\n",
       "         0.,  0.,  0.,  0.,  0.,  0.,  0.,  0.,  0.,  0.,  0.,  0.,  0.,\n",
       "         0.,  0.,  0.,  0.,  0.],\n",
       "       [-0.,  0.,  0.,  0.,  0.,  0.,  0.,  0.,  0.,  0.,  0.,  0.,  0.,\n",
       "         0.,  0.,  0.,  0.,  0.,  0.,  0.,  0.,  0.,  0.,  0.,  0.,  0.,\n",
       "         0.,  0.,  0., -0.,  0.],\n",
       "       [ 0.,  0.,  0.,  0.,  0.,  0.,  0.,  0.,  0.,  0.,  0.,  0.,  0.,\n",
       "         0.,  0.,  0.,  0.,  0.,  0.,  0.,  0.,  0.,  0.,  0.,  0.,  0.,\n",
       "         0.,  0.,  0.,  0.,  0.],\n",
       "       [ 0.,  0.,  0.,  0.,  0.,  0.,  0., -0.,  0.,  0., -0.,  0.,  0.,\n",
       "         0.,  0.,  0.,  0., -2.,  0.,  0.,  0.,  0.,  0.,  0.,  0.,  0.,\n",
       "         0., -0.,  0.,  0.,  0.],\n",
       "       [ 0.,  0.,  0.,  0.,  0.,  0.,  0., -0.,  0.,  0.,  0.,  0.,  0.,\n",
       "         0.,  0.,  0.,  0.,  0.,  0.,  0.,  0., -0.,  0.,  0.,  0.,  0.,\n",
       "         0., -0.,  0.,  0.,  0.],\n",
       "       [-0.,  0.,  0.,  0.,  0.,  0.,  0., -2.,  0., -0.,  0.,  0.,  0.,\n",
       "        -0., -2.,  0.,  0., -2.,  0.,  0., -0., -0.,  0., -0.,  0.,  0.,\n",
       "        -2., -2.,  0., -2.,  0.],\n",
       "       [ 0.,  0.,  0.,  0.,  0.,  0.,  0.,  0.,  0.,  0.,  0.,  0.,  0.,\n",
       "         0.,  0.,  0.,  0., -2.,  0.,  0.,  0., -0.,  0.,  0.,  0.,  0.,\n",
       "         0.,  0.,  0.,  0.,  0.],\n",
       "       [ 0.,  0.,  0.,  0.,  0.,  0.,  0.,  0.,  0.,  0.,  0.,  0.,  0.,\n",
       "         0.,  0.,  0.,  0.,  0.,  0.,  0.,  0.,  0.,  0.,  0.,  0.,  0.,\n",
       "         0.,  0.,  0.,  0.,  0.],\n",
       "       [ 0.,  0.,  0.,  0.,  0.,  0.,  0.,  0.,  0., -0.,  0.,  0.,  0.,\n",
       "         0.,  0.,  0.,  0., -0.,  0.,  0.,  0.,  0.,  0.,  0.,  0.,  0.,\n",
       "         0.,  0.,  0.,  0.,  0.],\n",
       "       [ 0.,  0.,  0.,  0.,  0.,  0.,  0.,  0.,  0.,  0.,  0.,  0.,  0.,\n",
       "         0.,  0.,  0.,  0., -0.,  0.,  0.,  0.,  0.,  0.,  0.,  0.,  0.,\n",
       "         0.,  0.,  0.,  0.,  0.],\n",
       "       [ 0.,  0.,  0.,  0.,  0.,  0.,  0.,  0.,  0.,  0.,  0.,  0.,  0.,\n",
       "         0.,  0.,  0.,  0., -2.,  0.,  0.,  0., -0.,  0.,  0.,  0.,  0.,\n",
       "         0.,  0.,  0.,  0.,  0.]])"
      ]
     },
     "execution_count": 33,
     "metadata": {},
     "output_type": "execute_result"
    }
   ],
   "source": [
    "friendshipMAT1"
   ]
  },
  {
   "cell_type": "code",
<<<<<<< HEAD
   "execution_count": 27,
   "metadata": {
    "ExecuteTime": {
     "end_time": "2018-09-25T16:27:41.766451Z",
     "start_time": "2018-09-25T16:27:30.091492Z"
    }
   },
=======
   "execution_count": 52,
   "metadata": {},
>>>>>>> 155e5683cbc86ef4624ca8fe5248cca29f254466
   "outputs": [
    {
     "name": "stderr",
     "output_type": "stream",
     "text": [
      "/home/skr12ms039/anaconda3/lib/python3.6/site-packages/ipykernel_launcher.py:52: FutureWarning: Method .as_matrix will be removed in a future version. Use .values instead.\n",
      "/home/skr12ms039/anaconda3/lib/python3.6/site-packages/ipykernel_launcher.py:61: FutureWarning: Method .as_matrix will be removed in a future version. Use .values instead.\n",
      "/home/skr12ms039/anaconda3/lib/python3.6/site-packages/numpy/lib/function_base.py:3183: RuntimeWarning: invalid value encountered in true_divide\n",
      "  c /= stddev[:, None]\n",
      "/home/skr12ms039/anaconda3/lib/python3.6/site-packages/numpy/lib/function_base.py:3184: RuntimeWarning: invalid value encountered in true_divide\n",
      "  c /= stddev[None, :]\n"
     ]
    },
    {
     "name": "stdout",
     "output_type": "stream",
     "text": [
      "Correlations at time t1:\n",
<<<<<<< HEAD
      "Correlation with enemy:  nan\n",
      "Correlation with dislike:  0.47002155310534954\n",
      "Correlation with neutral:  0.39097779650479414\n",
      "Correlation with like:  0.4446880469476288\n",
      "Correlation with friend:  0.7216296297496305\n",
      "Correlations at time t1 weighted:\n",
      "Correlation with enemy:  nan\n",
      "Correlation with dislike:  -0.1427543068297313\n",
      "Correlation with neutral:  -0.45886012747604843\n",
      "Correlation with like:  -0.21516812144003233\n",
      "Correlation with friend:  0.6391906931182157\n",
      "Correlations at time t2:\n",
      "Correlation with enemy:  nan\n",
      "Correlation with dislike:  nan\n",
      "Correlation with neutral:  nan\n",
      "Correlation with like:  nan\n",
      "Correlation with friend:  nan\n"
     ]
    },
    {
     "name": "stderr",
     "output_type": "stream",
     "text": [
      "/home/skr12ms039/anaconda3/lib/python3.6/site-packages/numpy/core/fromnumeric.py:2957: RuntimeWarning: Mean of empty slice.\n",
      "  out=out, **kwargs)\n",
      "/home/skr12ms039/anaconda3/lib/python3.6/site-packages/numpy/core/_methods.py:80: RuntimeWarning: invalid value encountered in double_scalars\n",
      "  ret = ret.dtype.type(ret / rcount)\n"
=======
      "('Correlation with enemy: ', 0.48497994291727692)\n",
      "('Correlation with dislike: ', 0.46955306588520185)\n",
      "('Correlation with neutral: ', 0.3910986826595419)\n",
      "('Correlation with like: ', 0.44490554450963266)\n",
      "('Correlation with friend: ', 0.72057346948859025)\n",
      "Correlations at time t2:\n",
      "('Correlation with enemy: ', 0.48151434356932832)\n",
      "('Correlation with dislike: ', 0.46656926464840803)\n",
      "('Correlation with neutral: ', 0.38347883611822897)\n",
      "('Correlation with like: ', 0.44607582524995182)\n",
      "('Correlation with friend: ', 0.74404606827458575)\n"
>>>>>>> 155e5683cbc86ef4624ca8fe5248cca29f254466
     ]
    }
   ],
   "source": [
    "import numpy as np\n",
    "import csv\n",
    "import os\n",
    "# Data directory\n",
    "#directory = \"Controversies-Game-Theory-Project/Data\"\n",
    "\n",
    "\n",
    "# NA values are currently ignored\n",
    "\n",
    "# Initilize the lists for correlations for time 1\n",
    "corrEnemy1 = []\n",
    "corrDislike1 = []\n",
    "corrNeutral1 = []\n",
    "corrLike1 = []\n",
    "corrFriend1 = []\n",
    "\n",
    "corrEnemy2 = []\n",
    "corrDislike2 = []\n",
    "corrNeutral2 = []\n",
    "corrLike2 = []\n",
    "corrFriend2 = []\n",
    "\n",
    "\n",
    "\n",
    "\n",
    "wt_corrEnemy1 = []\n",
    "wt_corrDislike1 = []\n",
    "wt_corrNeutral1 = []\n",
    "wt_corrLike1 = []\n",
    "wt_corrFriend1 = []\n",
    "\n",
    "wt_corrEnemy2 = []\n",
    "wt_corrDislike2 = []\n",
    "wt_corrNeutral2 = []\n",
    "wt_corrLike2 = []\n",
    "wt_corrFriend2 = []\n",
    "\n",
    "\n",
    "\n",
    "\n",
    "\n",
    "# Loop over the files in the data folder\n",
    "for filename in os.listdir(DATA_PATH):\n",
    "    if filename.endswith(\"trust_w1.csv\") and (filename!=\"1200_trust_w1.csv\"):\n",
    "        # Create trust vector\n",
    "        trustfile = open(DATA_PATH+filename)\n",
    "        reader = csv.reader(trustfile)\n",
    "\n",
    "\n",
    "        trustDF      =pd.read_csv(DATA_PATH+filename,index_col=0)\n",
    "        trustDF=trustDF.fillna(0)\n",
    "        trustMAT=trustDF.as_matrix()        \n",
    "\n",
    "        # Create the friendship vectors\n",
    "        friendshipfile =(DATA_PATH+filename.split(\"_\")[0]+\"_affective_w1.csv\")\n",
    "        #reader = csv.reader(friendshipfile)\n",
    "\n",
    "        friendshipDF      =pd.read_csv(friendshipfile,index_col=0)\n",
    "        friendshipDF=friendshipDF.fillna(0)\n",
    "\n",
    "        friendshipMAT=friendshipDF.as_matrix()\n",
    "\n",
    "        friendshipMAT_2=(friendshipMAT== (-2))*np.ones_like(friendshipMAT)\n",
    "        friendshipMAT_1=(friendshipMAT== (-1))*np.ones_like(friendshipMAT)\n",
    "        friendshipMAT0=(friendshipMAT== (0))*np.ones_like(friendshipMAT)\n",
    "        friendshipMAT1=(friendshipMAT== (1))*np.ones_like(friendshipMAT)\n",
    "        friendshipMAT2=(friendshipMAT== (2))*np.ones_like(friendshipMAT)\n",
    "\n",
    "\n",
<<<<<<< HEAD
    "        len_0=len(trustMAT.flatten(\"F\")[trustMAT.flatten(\"F\")==0])\n",
    "        len_1=len(trustMAT.flatten(\"F\"))-len(trustMAT.flatten(\"F\")[trustMAT.flatten(\"F\")==0])\n",
    "        \n",
    "        w0=(len_1+len_0)/len_0\n",
    "        w1=(len_1+len_0)/len_1\n",
    "        \n",
    "        weight= (trustMAT.flatten(\"F\")==0)*np.ones_like(trustMAT.flatten(\"F\"))*w0+\\\n",
    "        (trustMAT.flatten(\"F\")==1)*np.ones_like(trustMAT.flatten(\"F\"))*w1\n",
    "        \n",
    "        \n",
    "        \n",
    "        wt_corrEnemy1.append((tuple((weights.wtd_cor( friendshipMAT_2.flatten(\"F\"), trustMAT.flatten(\"F\"), weight, bootse=True)))[0]))\n",
    "        wt_corrDislike1.append((tuple((weights.wtd_cor( friendshipMAT_1.flatten(\"F\"), trustMAT.flatten(\"F\"), weight, bootse=True)))[0]))\n",
    "        wt_corrNeutral1.append((tuple((weights.wtd_cor( friendshipMAT0.flatten(\"F\"), trustMAT.flatten(\"F\"), weight, bootse=True)))[0]))\n",
    "        wt_corrLike1.append((tuple((weights.wtd_cor( friendshipMAT1.flatten(\"F\"), trustMAT.flatten(\"F\"), weight, bootse=True)))[0]))\n",
    "        wt_corrFriend1.append((tuple((weights.wtd_cor( friendshipMAT2.flatten(\"F\"), trustMAT.flatten(\"F\"), weight, bootse=True)))[0]))\n",
    "\n",
    "        \n",
    "        corrEnemy1.append(np.corrcoef(trustMAT.flatten(\"F\"), friendshipMAT_2.flatten(\"F\"))[0])\n",
=======
    "        friendshipMAT1.flatten(\"F\")\n",
    "        corrEnemy1.append(np.corrcoef(trustMAT.flatten(\"F\").astype(int), friendshipMAT_2.flatten(\"F\").astype(int))[0])\n",
>>>>>>> 155e5683cbc86ef4624ca8fe5248cca29f254466
    "        corrDislike1.append(np.corrcoef(trustMAT.flatten(\"F\"), friendshipMAT_1.flatten(\"F\"))[0])\n",
    "        corrNeutral1.append(np.corrcoef(trustMAT.flatten(\"F\"), friendshipMAT0.flatten(\"F\"))[0])\n",
    "        corrLike1.append(np.corrcoef(trustMAT.flatten(\"F\"), friendshipMAT1.flatten(\"F\"))[0])\n",
    "        corrFriend1.append(np.corrcoef(trustMAT.flatten(\"F\"), friendshipMAT2.flatten(\"F\"))[0])\n",
    "\n",
    "        #or filename.endswith(\"trust_w2.csv\")\n",
    "    elif filename.endswith(\"trust_w2.csv\") and (filename!=\"1200_trust_w1.csv\"):\n",
    "        # Create trust vector\n",
    "        trustfile = open(DATA_PATH+filename)\n",
    "        reader = csv.reader(trustfile)\n",
    "\n",
    "\n",
    "        trustDF      =pd.read_csv(DATA_PATH+filename,index_col=0)\n",
    "        trustDF=trustDF.fillna(0)\n",
    "        trustMAT=trustDF.as_matrix()        \n",
    "\n",
    "        # Create the friendship vectors\n",
    "        friendshipfile =(DATA_PATH+filename.split(\"_\")[0]+\"_affective_w2.csv\")\n",
    "        #reader = csv.reader(friendshipfile)\n",
    "\n",
    "        friendshipDF      =pd.read_csv(friendshipfile,index_col=0)\n",
    "        friendshipDF=friendshipDF.fillna(0)\n",
    "\n",
    "        friendshipMAT=friendshipDF.as_matrix()\n",
    "\n",
    "        friendshipMAT_2=(friendshipMAT== (-2))*np.ones_like(friendshipMAT)\n",
    "        friendshipMAT_1=(friendshipMAT== (-1))*np.ones_like(friendshipMAT)\n",
    "        friendshipMAT0=(friendshipMAT== (0))*np.ones_like(friendshipMAT)\n",
    "        friendshipMAT1=(friendshipMAT== (1))*np.ones_like(friendshipMAT)\n",
    "        friendshipMAT2=(friendshipMAT== (2))*np.ones_like(friendshipMAT)\n",
    "\n",
    "\n",
    "        friendshipMAT1.flatten(\"F\")\n",
    "\n",
    "        corrEnemy2.append(np.corrcoef(trustMAT.flatten(\"F\"), friendshipMAT_2.flatten(\"F\"))[0])\n",
    "        corrDislike2.append(np.corrcoef(trustMAT.flatten(\"F\"), friendshipMAT_1.flatten(\"F\"))[0])\n",
    "        corrNeutral2.append(np.corrcoef(trustMAT.flatten(\"F\"), friendshipMAT0.flatten(\"F\"))[0])\n",
    "        corrLike2.append(np.corrcoef(trustMAT.flatten(\"F\"), friendshipMAT1.flatten(\"F\"))[0])\n",
    "        corrFriend2.append(np.corrcoef(trustMAT.flatten(\"F\"), friendshipMAT2.flatten(\"F\"))[0])\n",
    "\n",
    "        \n",
    "    else:\n",
    "        continue\n",
    "\n",
    "print(\"Correlations at time t1:\")\n",
    "print(\"Correlation with enemy: \", np.mean(np.array(corrEnemy1)))\n",
    "print(\"Correlation with dislike: \", np.mean(np.array(corrDislike1)))\n",
    "print(\"Correlation with neutral: \", np.mean(np.array(corrNeutral1)))\n",
    "print(\"Correlation with like: \", np.mean(np.array(corrLike1)))\n",
    "print(\"Correlation with friend: \", np.mean(np.array(corrFriend1)))\n",
    "\n",
    "print(\"Correlations at time t1 weighted:\")\n",
    "print(\"Correlation with enemy: \", np.mean(np.array(wt_corrEnemy1)))\n",
    "print(\"Correlation with dislike: \", np.mean(np.array(wt_corrDislike1)))\n",
    "print(\"Correlation with neutral: \", np.mean(np.array(wt_corrNeutral1)))\n",
    "print(\"Correlation with like: \", np.mean(np.array(wt_corrLike1)))\n",
    "print(\"Correlation with friend: \", np.mean(np.array(wt_corrFriend1)))\n",
    "\n",
    "\n",
    "\n",
    "\n",
    "print(\"Correlations at time t2:\")\n",
    "print(\"Correlation with enemy: \", np.mean(np.array(corrEnemy2)))\n",
    "print(\"Correlation with dislike: \", np.mean(np.array(corrDislike2)))\n",
    "print(\"Correlation with neutral: \", np.mean(np.array(corrNeutral2)))\n",
    "print(\"Correlation with like: \", np.mean(np.array(corrLike2)))\n",
    "print(\"Correlation with friend: \", np.mean(np.array(corrFriend2)))\n"
   ]
  },
  {
   "cell_type": "code",
   "execution_count": 2,
   "metadata": {
    "ExecuteTime": {
     "end_time": "2018-09-25T15:39:08.563446Z",
     "start_time": "2018-09-25T15:39:08.367717Z"
    }
   },
   "outputs": [],
   "source": [
    "import rpy2 #conda install -c r rpy2 \n",
    "%load_ext rpy2.ipython"
   ]
  },
  {
   "cell_type": "code",
   "execution_count": 12,
   "metadata": {
    "ExecuteTime": {
     "end_time": "2018-09-25T15:58:41.967761Z",
     "start_time": "2018-09-25T15:58:41.724550Z"
    }
   },
   "outputs": [],
   "source": [
    "### R imports ###\n",
    "from rpy2.robjects.packages import importr\n",
    "import rpy2.robjects.numpy2ri\n",
    "rpy2.robjects.numpy2ri.activate()\n",
    "weights = importr('weights')\n",
    "base =importr('base')"
   ]
  },
  {
   "cell_type": "code",
   "execution_count": 23,
   "metadata": {
    "ExecuteTime": {
     "end_time": "2018-09-25T16:04:49.613230Z",
     "start_time": "2018-09-25T16:04:49.536703Z"
    },
    "code_folding": [
     0
    ]
   },
   "outputs": [
    {
     "name": "stdout",
     "output_type": "stream",
     "text": [
      "  correlation   std.err  t.value      p.value\n",
      "Y  -0.8312236 0.1604855 -5.17943 0.0002295519\n",
      "\n",
      "14 14\n",
      "  correlation   std.err   t.value      p.value\n",
      "Y  -0.8461164 0.1538633 -5.499143 0.0001364436\n",
      "\n",
      "-0.8461163965936359\n"
     ]
    }
   ],
   "source": [
    "def r2dict(vect):\n",
    "    dictn=dict(zip(vect.names, map(list,list(vect))))\n",
    "    return dictn\n",
    "\n",
    "\n",
    "\n",
    "test = np.array([1,1,1,1,1,1,2,2,2,3,3,3,4,4])\n",
    "t2 =test[::-1]\n",
    "wt = base.as_vector(np.asarray([1,1,1,1,1,1,1,1,1,2,2,2,2,2]))\n",
    "print (weights.wtd_cor(test, t2))\n",
    "print(len(test),len(weight))\n",
    "print(weights.wtd_cor(test, t2, wt))\n",
    "corr=tuple((weights.wtd_cor(test, t2, weight, bootse=True)))[0]\n",
    "print(y)"
   ]
  },
  {
   "cell_type": "code",
   "execution_count": 5,
   "metadata": {
    "ExecuteTime": {
     "end_time": "2018-09-25T15:53:26.114195Z",
     "start_time": "2018-09-25T15:53:25.955339Z"
    }
   },
   "outputs": [
    {
     "data": {
      "text/plain": [
       "  correlation    bootcor    std.err   t.value      p.value\n",
       "Y  -0.8108894 -0.8208053 0.07546276 -10.87696 1.484344e-27\n"
      ]
     },
     "metadata": {},
     "output_type": "display_data"
    }
   ],
   "source": [
    "%%R \n",
    "library(weights)\n",
    "test <- c(1,1,1,1,1,1,2,2,2,3,3,3,4,4)\n",
    "t2 <- rev(test)\n",
    "weight <- c(.5,.5,.5,.5,.5,1,1,1,1,2,2,2,2,2)\n",
    "wtd.cor(test, t2)\n",
    "wtd.cor(test, t2, weight)\n",
    "wtd.cor(test, t2, weight, bootse=TRUE)"
   ]
  },
  {
   "cell_type": "code",
   "execution_count": null,
   "metadata": {},
   "outputs": [],
   "source": []
  }
 ],
 "metadata": {
  "kernelspec": {
   "display_name": "Python 3",
   "language": "python",
   "name": "python3"
  },
  "language_info": {
   "codemirror_mode": {
    "name": "ipython",
    "version": 3
   },
   "file_extension": ".py",
   "mimetype": "text/x-python",
   "name": "python",
   "nbconvert_exporter": "python",
   "pygments_lexer": "ipython3",
   "version": "3.6.5"
  },
  "toc": {
   "base_numbering": 1,
   "nav_menu": {},
   "number_sections": true,
   "sideBar": true,
   "skip_h1_title": false,
   "title_cell": "Table of Contents",
   "title_sidebar": "Contents",
   "toc_cell": false,
   "toc_position": {},
   "toc_section_display": true,
   "toc_window_display": false
  },
  "varInspector": {
   "cols": {
    "lenName": 16,
    "lenType": 16,
    "lenVar": 40
   },
   "kernels_config": {
    "python": {
     "delete_cmd_postfix": "",
     "delete_cmd_prefix": "del ",
     "library": "var_list.py",
     "varRefreshCmd": "print(var_dic_list())"
    },
    "r": {
     "delete_cmd_postfix": ") ",
     "delete_cmd_prefix": "rm(",
     "library": "var_list.r",
     "varRefreshCmd": "cat(var_dic_list()) "
    }
   },
   "types_to_exclude": [
    "module",
    "function",
    "builtin_function_or_method",
    "instance",
    "_Feature"
   ],
   "window_display": false
  }
 },
 "nbformat": 4,
 "nbformat_minor": 2
}

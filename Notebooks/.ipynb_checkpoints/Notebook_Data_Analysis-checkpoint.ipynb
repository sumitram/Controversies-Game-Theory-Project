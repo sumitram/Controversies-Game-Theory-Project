{
 "cells": [
  {
   "cell_type": "markdown",
   "metadata": {},
   "source": [
    "The present program reads the data; calculates many network parameter; tries to generate the equivalent E-R random network using the average degree, sex of the nodes, and number of nodes; and generates the synthetics statistics for the random network for comparison with the real networks."
   ]
  },
  {
   "cell_type": "code",
   "execution_count": 1,
   "metadata": {
    "ExecuteTime": {
     "end_time": "2018-09-20T16:46:46.099698Z",
     "start_time": "2018-09-20T16:46:46.082384Z"
    },
    "code_folding": [
     0
    ]
   },
   "outputs": [],
   "source": [
    "%matplotlib inline\n",
    "%config IPCompleter.greedy=True\n",
    "import matplotlib.pyplot as plt\n",
    "import numpy as np\n",
    "from IPython.display import *\n",
    "import pandas as pd\n",
    "import os\n",
    "import networkx as nx\n",
    "from collections import OrderedDict\n",
    "from igraph import *"
   ]
  },
  {
   "cell_type": "code",
   "execution_count": 2,
   "metadata": {},
   "outputs": [
    {
     "ename": "FileNotFoundError",
     "evalue": "[Errno 2] No such file or directory: 'Data/'",
     "output_type": "error",
     "traceback": [
      "\u001b[0;31m---------------------------------------------------------------------------\u001b[0m",
      "\u001b[0;31mFileNotFoundError\u001b[0m                         Traceback (most recent call last)",
      "\u001b[0;32m<ipython-input-2-202986ce3264>\u001b[0m in \u001b[0;36m<module>\u001b[0;34m()\u001b[0m\n\u001b[1;32m     12\u001b[0m \u001b[0mNETWORKS\u001b[0m \u001b[0;34m=\u001b[0m \u001b[0;34m{\u001b[0m\u001b[0;34m'Random'\u001b[0m\u001b[0;34m:\u001b[0m \u001b[0;32mNone\u001b[0m\u001b[0;34m}\u001b[0m\u001b[0;34m\u001b[0m\u001b[0m\n\u001b[1;32m     13\u001b[0m \u001b[0;34m\u001b[0m\u001b[0m\n\u001b[0;32m---> 14\u001b[0;31m \u001b[0mclass_ids\u001b[0m \u001b[0;34m=\u001b[0m \u001b[0msorted\u001b[0m\u001b[0;34m(\u001b[0m\u001b[0;34m[\u001b[0m\u001b[0mint\u001b[0m\u001b[0;34m(\u001b[0m\u001b[0mfile_name\u001b[0m\u001b[0;34m.\u001b[0m\u001b[0msplit\u001b[0m\u001b[0;34m(\u001b[0m\u001b[0;34m\"_\"\u001b[0m\u001b[0;34m)\u001b[0m\u001b[0;34m[\u001b[0m\u001b[0;36m0\u001b[0m\u001b[0;34m]\u001b[0m\u001b[0;34m)\u001b[0m \u001b[0;32mfor\u001b[0m \u001b[0mfile_name\u001b[0m \u001b[0;32min\u001b[0m \u001b[0mos\u001b[0m\u001b[0;34m.\u001b[0m\u001b[0mlistdir\u001b[0m\u001b[0;34m(\u001b[0m\u001b[0mDATA_PATH\u001b[0m\u001b[0;34m)\u001b[0m \u001b[0;32mif\u001b[0m \u001b[0mfile_name\u001b[0m\u001b[0;34m.\u001b[0m\u001b[0mendswith\u001b[0m\u001b[0;34m(\u001b[0m\u001b[0;34m'sex.csv'\u001b[0m\u001b[0;34m)\u001b[0m\u001b[0;34m]\u001b[0m\u001b[0;34m)\u001b[0m\u001b[0;34m\u001b[0m\u001b[0m\n\u001b[0m\u001b[1;32m     15\u001b[0m \u001b[0;32mfor\u001b[0m \u001b[0mclass_id\u001b[0m \u001b[0;32min\u001b[0m \u001b[0mclass_ids\u001b[0m\u001b[0;34m:\u001b[0m\u001b[0;34m\u001b[0m\u001b[0m\n\u001b[1;32m     16\u001b[0m     \u001b[0mNETWORKS\u001b[0m\u001b[0;34m[\u001b[0m\u001b[0;34m'{} w1'\u001b[0m\u001b[0;34m.\u001b[0m\u001b[0mformat\u001b[0m\u001b[0;34m(\u001b[0m\u001b[0mclass_id\u001b[0m\u001b[0;34m)\u001b[0m\u001b[0;34m]\u001b[0m \u001b[0;34m=\u001b[0m \u001b[0;32mNone\u001b[0m\u001b[0;34m\u001b[0m\u001b[0m\n",
      "\u001b[0;31mFileNotFoundError\u001b[0m: [Errno 2] No such file or directory: 'Data/'"
     ]
    }
   ],
   "source": [
    "DATA_PATH = '../Data/'\n",
    "\n",
    "# Global Network Parameters\n",
    "PARAM_LIST = ['n', 'n_female', 'n_male', 'm', \n",
    "             'num_strongly_connected_components', 'size_strongly_connected_components',\\\n",
    "             'num_weakly_connected_components', 'size_weakly_connected_components',\\\n",
    "             'node_connectivity', 'edge_connectivity', 'avg_clustering', 'transitivity',\\\n",
    "             'avg_distance', 'diameter', 'radius', 'density', 'degree_assortativity', 'attribute_assortativity', \\\n",
    "             'assortativity_f2f', 'assortativity_f2m', 'assortativity_m2m', 'assortativity_m2f']\n",
    "\n",
    "# Networks to study\n",
    "NETWORKS = {'Random': None}\n",
    "\n",
    "class_ids = sorted([int(file_name.split(\"_\")[0]) for file_name in os.listdir(DATA_PATH) if file_name.endswith('sex.csv')])\n",
    "for class_id in class_ids:\n",
    "    NETWORKS['{} w1'.format(class_id)] = None\n",
    "    NETWORKS['{} w2'.format(class_id)] = None\n",
    "    \n"
   ]
  },
  {
   "cell_type": "code",
   "execution_count": null,
   "metadata": {
    "ExecuteTime": {
     "end_time": "2018-09-20T16:46:47.814213Z",
     "start_time": "2018-09-20T16:46:47.809255Z"
    },
    "code_folding": [
     0,
     1,
     10
    ]
   },
   "outputs": [],
   "source": [
    "def displayNetwork(network):\n",
    "\n",
    "    plt.figure(figsize=(8,8))\n",
    "    plt.axis('off')\n",
    "    plt.tight_layout()\n",
    "    \n",
    "    pos = nx.circular_layout(network)\n",
    "    node_size = [network.in_degree(v)+300 for v in network]\n",
    "    node_sex = [nx.get_node_attributes(network, 'sex')[v] for v in network]\n",
    "    node_color = list(map(lambda x: 'red' if x == 'female' else 'blue', node_sex))\n",
    "    nx.draw_networkx(network, pos, node_size=node_size, \n",
    "                     node_color=node_color, alpha=0.9, with_labels=False, \n",
    "                     edge_color='.5', cmap=plt.cm.Blues)\n",
    "\n",
    "def LoadData2Network(file_id, wave_num):\n",
    "\n",
    "    sex_df        = pd.read_csv(DATA_PATH + \"{}_sex.csv\".format(file_id), skiprows=0)\n",
    "    drink_df      = pd.read_csv(DATA_PATH + \"{}_drink.csv\".format(file_id), skiprows=0)\n",
    "    drink_df      = drink_df.drop(['drinking w2'], axis=1) if wave_num == 1 else drink_df.drop(['drinking w1'], axis=1)\n",
    "                    # Select the column of the relevant wave\n",
    "        \n",
    "    trust_df = pd.read_csv(DATA_PATH + \"{}_trust_w{}.csv\".format(file_id, wave_num), index_col=0)\n",
    "    trust = nx.from_numpy_matrix(trust_df.fillna(0).values, create_using=nx.DiGraph())\n",
    "    label_mapping = {idx: int(val) for idx, val in enumerate(trust_df.columns)}\n",
    "    trust_graph = nx.relabel_nodes(trust, label_mapping)\n",
    "    \n",
    "    # Set node attributes (sex & drinking frequency)\n",
    "    for _, row in sex_df.iterrows():\n",
    "        studentID = row[0]\n",
    "        sex = row[1]\n",
    "        trust_graph.node[studentID]['sex'] = 'male' if sex == 1 else 'female'\n",
    "    \n",
    "    for _, row in drink_df.iterrows():\n",
    "        studentID = row[0]\n",
    "        drink_frequency = row[1]\n",
    "        trust_graph.node[studentID]['drink'] = drink_frequency\n",
    "       \n",
    "    return trust_graph\n"
   ]
  },
  {
   "cell_type": "code",
   "execution_count": null,
   "metadata": {
    "ExecuteTime": {
     "end_time": "2018-09-20T16:46:49.351126Z",
     "start_time": "2018-09-20T16:46:49.345985Z"
    },
    "code_folding": [
     0
    ]
   },
   "outputs": [],
   "source": [
    "# Sample Network\n",
    "trust_graph = LoadData2Network(1100, 1)\n",
    "displayNetwork(trust_graph)"
   ]
  },
  {
   "cell_type": "code",
   "execution_count": null,
   "metadata": {},
   "outputs": [],
   "source": [
    "# Auxilary functions\n",
    "def get_sex_subset(network):\n",
    "    female = [idx for idx, sex in nx.get_node_attributes(network, 'sex').items() if sex == 'female']\n",
    "    male = [idx for idx, sex in nx.get_node_attributes(network, 'sex').items() if sex == 'male']\n",
    "    return female, male\n",
    "\n",
    "def network_as_row(param_dict):\n",
    "    return pd.DataFrame.from_dict(param_dict, orient='index', columns = PARAM_LIST)\n",
    "    \n",
    "def network_as_column(param_dict):\n",
    "    allnetwork_params = pd.DataFrame.from_dict(param_dict)\n",
    "    allnetwork_params.index = PARAM_LIST\n",
    "    return allnetwork_params\n",
    "    "
   ]
  },
  {
   "cell_type": "code",
   "execution_count": null,
   "metadata": {
    "ExecuteTime": {
     "end_time": "2018-09-20T15:34:50.233220Z",
     "start_time": "2018-09-20T15:34:50.224580Z"
    },
    "code_folding": [
     31
    ]
   },
   "outputs": [],
   "source": [
    "# Measures for network analysis\n",
    "def get_node_param(network):\n",
    "    \"\"\"\n",
    "    Measures to study centralization of each node / node importance:\n",
    "        In/Out-degree centrality, Closeness centrality, \n",
    "        Betweenness centrality (in female/male groups), Local clustering coefficient\n",
    "    * Could consider Eccentricity (-> peripherty nodes & center nodes) in subgraphs if we want\n",
    "    \"\"\"\n",
    "    \n",
    "    female, male = get_sex_subset(network)\n",
    "    in_degree_centrality = nx.in_degree_centrality(network)\n",
    "    out_degree_centrality = nx.out_degree_centrality(network)\n",
    "    closeness_centrality = nx.closeness_centrality(network)\n",
    "    betweenness_centrality = nx.betweenness_centrality(network, normalized = True)\n",
    "    betweenness_centrality_male_to_female = nx.betweenness_centrality(\\\n",
    "                                                    network, male, female, normalized = True)\n",
    "    betweenness_centrality_female_to_male = nx.betweenness_centrality(\\\n",
    "                                                    network, female, male, normalized = True)\n",
    "    local_clustering = nx.clustering(network)\n",
    "    \n",
    "    return (in_degree_centrality, out_degree_centrality, closeness_centrality, betweenness_centrality,\n",
    "            betweenness_centrality_male_to_female, betweenness_centrality_female_to_male, local_clustering)\n",
    "\n",
    "def get_network_param(network):\n",
    "    \"\"\"\n",
    "    Measures to study connectivity of the whole network:\n",
    "        Transitivity, Avg. clustering coefficient, Avg. distance, Diameter, Radius, \n",
    "        Number&Size of strongly/weakly connected components, \n",
    "        Node connectivity, Edge connectivity,\n",
    "        Triadic census, Density, Degree assortativity, Attribute assortativity\n",
    "    \"\"\"\n",
    "    \n",
    "    undirected_network = nx.to_undirected(network)\n",
    "    female, male = get_sex_subset(network)\n",
    "    female_subgraph = network.subgraph(female)\n",
    "    male_subgraph = network.subgraph(male)\n",
    "    \n",
    "    n = nx.number_of_nodes(network) # number of vertices\n",
    "    m = nx.number_of_edges(network) # number of edges\n",
    "    n_female = nx.number_of_nodes(female_subgraph)\n",
    "    n_male = nx.number_of_nodes(male_subgraph)\n",
    "    \n",
    "    num_strongly_connected_components = nx.number_strongly_connected_components(network)\n",
    "    size_strongly_connected_components = len(max(nx.strongly_connected_components(network), key=len))\n",
    "    num_weakly_connected_components = nx.number_weakly_connected_components(network)\n",
    "    size_weakly_connected_components = len(max(nx.weakly_connected_components(network), key=len)) \n",
    "    node_connectivity = nx.node_connectivity(network)\n",
    "    edge_connectivity = nx.edge_connectivity(network)\n",
    "    \n",
    "    # Params that depend on connectivity of the graph\n",
    "    avg_clustering = nx.average_clustering(network) if num_strongly_connected_components == 1 else None\n",
    "    if avg_clustering is not None:\n",
    "        avg_clustering = round(avg_clustering, 3)\n",
    "    avg_distance = nx.average_shortest_path_length(network) if num_weakly_connected_components == 1 else None\n",
    "    if avg_distance is not None:\n",
    "        avg_distance = round(avg_distance, 3) \n",
    "    diameter = nx.diameter(undirected_network) if num_weakly_connected_components == 1 else None\n",
    "    radius = nx.radius(undirected_network) if num_weakly_connected_components == 1 else None\n",
    "    \n",
    "    transitivity = nx.transitivity(network)\n",
    "    transitivity = round(transitivity, 3)\n",
    "    density = nx.density(network)\n",
    "    density = round(density, 3)\n",
    "    \n",
    "    degree_assortativity = nx.degree_assortativity_coefficient(network)\n",
    "    degree_assortativity = round(degree_assortativity, 3)\n",
    "    attribute_assortativity = nx.attribute_assortativity_coefficient(network, 'sex')\n",
    "    attribute_assortativity = round(attribute_assortativity, 3)\n",
    "    \n",
    "    assortativity_dict = nx.attribute_mixing_dict(trust_graph, 'sex', normalized = True)\n",
    "    assortativity_f2f = assortativity_dict['female']['female'] if 'female' in assortativity_dict['female']\\\n",
    "                                                               else 0\n",
    "    assortativity_f2f = round(assortativity_f2f, 3)\n",
    "    assortativity_f2m = assortativity_dict['female']['male'] if 'male' in assortativity_dict['female']\\\n",
    "                                                             else 0\n",
    "    assortativity_f2m = round(assortativity_f2m, 3)\n",
    "    assortativity_m2m = assortativity_dict['male']['male'] if 'male' in assortativity_dict['male']\\\n",
    "                                                           else 0\n",
    "    assortativity_m2m = round(assortativity_m2m, 3)\n",
    "    assortativity_m2f = assortativity_dict['male']['female'] if 'female' in assortativity_dict['male']\\\n",
    "                                                             else 0\n",
    "    assortativity_m2f = round(assortativity_m2f, 3)\n",
    "    \n",
    "    return [n, n_female, n_male, m, \n",
    "            num_strongly_connected_components, size_strongly_connected_components,\n",
    "            num_weakly_connected_components, size_weakly_connected_components,\n",
    "            node_connectivity, edge_connectivity, avg_clustering, transitivity, avg_distance, diameter, radius, \n",
    "            density, degree_assortativity, attribute_assortativity,\n",
    "            assortativity_f2f, assortativity_f2m, assortativity_m2m, assortativity_m2f]\n",
    "\n",
    "def get_nodepair_param(network):\n",
    "    \"\"\"\n",
    "    To study relations between each pair/triple of nodes:\n",
    "    \"\"\"\n",
    "    similarity_jaccard =getattr(network,\"degree\")()\n",
    "    similarity_inverse_log_weighted =getattr(network,\"similarity_inverse_log_weighted\")(vertices=None, mode=3)\n",
    "    similarity_dice =getattr(network,\"similarity_dice\")(vertices=None, pairs=None, mode=3, loops=True)\n",
    "    tradic_census = nx.triadic_census(network)\n",
    "    \n",
    "    return (similarity_jaccard, similarity_inverse_log_weighted, similarity_dice, tradic_census)\n",
    "\n",
    "def get_network_communities(network):\n",
    "    \"\"\"\n",
    "    IN: Network object\n",
    "    OUT: Detected communities through different algorithms\n",
    "    \"\"\"\n",
    "    community_infomap = getattr(network,\"community_infomap\")(edge_weights=None, vertex_weights=None, trials=10)\n",
    "    community_leading_eigenvector = getattr(network,\"community_leading_eigenvector\")(clusters=None, weights=None, arpack_options=None)\n",
    "    community_label_propagation = getattr(network,\"community_label_propagation\")(weights=None, initial=None, fixed=None)\n",
    "    community_edge_betweenness = getattr(network,\"community_edge_betweenness\")( clusters=None, directed=True, weights=None)\n",
    "    community_spinglass = getattr(network,\"community_spinglass\")(weights=None, spins=25, parupdate=False, start_temp=1, stop_temp=0.01, cool_fact=0.99, update_rule=\"config\", gamma=1, implementation=\"orig\", lambda_=1)\n",
    "    community_walktrap = getattr(network,\"community_walktrap\")(weights=None, steps=4)\n",
    "\n",
    "    return (community_infomap, community_leading_eigenvector, community_label_propagation,\n",
    "            community_edge_betweenness, community_spinglass, community_walktrap)\n"
   ]
  },
  {
   "cell_type": "code",
   "execution_count": null,
   "metadata": {
    "ExecuteTime": {
     "end_time": "2018-09-20T15:36:04.554637Z",
     "start_time": "2018-09-20T15:36:04.452343Z"
    },
    "code_folding": []
   },
   "outputs": [],
   "source": [
    "# Generates parameter for the synthetic networks\n",
    "\n",
    "file_ids = [int(file_name.split(\"_\")[0]) for file_name in os.listdir(DATA_PATH) if file_name.endswith('sex.csv')]\n",
    "degree_collect = {}\n",
    "sex_collect = {}\n",
    "for class_id in file_ids:\n",
    "    trust_graph = LoadData2Network(class_id, 1)   \n",
    "    degree = [degree for idx, degree in trust_graph.degree()]\n",
    "    degree_collect[class_id] = degree\n",
    "    sex_collect[class_id] = nx.get_node_attributes(trust_graph, 'sex')\n",
    "\n",
    "# class_strength = {}\n",
    "# class_strength= [len(degree_collect[i]) for i in range(len(degree_collect))]\n",
    "# mean_degree=[np.sum(degree_collect[i])/class_strength[i] for i in range(len(degree_collect))]\n",
    "# p_values=[(mean_degree[i]/class_strength[i]) for i in range(len(mean_degree))]"
   ]
  },
  {
   "cell_type": "code",
   "execution_count": 3,
   "metadata": {
    "ExecuteTime": {
     "end_time": "2018-09-20T15:42:44.988917Z",
     "start_time": "2018-09-20T15:42:44.466910Z"
    },
    "code_folding": [
     0,
     1
    ]
   },
   "outputs": [
    {
     "ename": "SyntaxError",
     "evalue": "invalid syntax (<ipython-input-3-23d0c9d34358>, line 2)",
     "output_type": "error",
     "traceback": [
      "\u001b[0;36m  File \u001b[0;32m\"<ipython-input-3-23d0c9d34358>\"\u001b[0;36m, line \u001b[0;32m2\u001b[0m\n\u001b[0;31m    def random_network_generator(class_strength, p_values, sex_collect)\u001b[0m\n\u001b[0m                                                                       ^\u001b[0m\n\u001b[0;31mSyntaxError\u001b[0m\u001b[0;31m:\u001b[0m invalid syntax\n"
     ]
    }
   ],
   "source": [
    "# Generates synthetic statistics using the Erdos-Renyi random network\n",
    "def random_network_generator(class_strength, p_values, sex_collect)\n",
    "    random_networks = []\n",
    "    for n, p, s in zip(class_strength, p_values, sex_collect):\n",
    "        null_model = Graph.Erdos_Renyi(n, p, directed=True)\n",
    "        null_model.vs['sex']= s\n",
    "        random_networks.append(null_model)\n",
    "    return random_networks"
   ]
  },
  {
   "cell_type": "code",
   "execution_count": 4,
   "metadata": {},
   "outputs": [
    {
     "ename": "NameError",
     "evalue": "name 'random_network_generator' is not defined",
     "output_type": "error",
     "traceback": [
      "\u001b[0;31m---------------------------------------------------------------------------\u001b[0m",
      "\u001b[0;31mNameError\u001b[0m                                 Traceback (most recent call last)",
      "\u001b[0;32m<ipython-input-4-b51051165bff>\u001b[0m in \u001b[0;36m<module>\u001b[0;34m()\u001b[0m\n\u001b[1;32m      1\u001b[0m \u001b[0;31m# Gathering the network parameters into a pandas dataframe\u001b[0m\u001b[0;34m\u001b[0m\u001b[0;34m\u001b[0m\u001b[0m\n\u001b[0;32m----> 2\u001b[0;31m \u001b[0mrandom_networks\u001b[0m \u001b[0;34m=\u001b[0m \u001b[0mrandom_network_generator\u001b[0m\u001b[0;34m(\u001b[0m\u001b[0mclass_strength\u001b[0m\u001b[0;34m,\u001b[0m \u001b[0mp_values\u001b[0m\u001b[0;34m,\u001b[0m \u001b[0msex_collect\u001b[0m\u001b[0;34m)\u001b[0m\u001b[0;34m\u001b[0m\u001b[0m\n\u001b[0m\u001b[1;32m      3\u001b[0m \u001b[0;32mfor\u001b[0m \u001b[0mnetwork_name\u001b[0m \u001b[0;32min\u001b[0m \u001b[0mNETWORKS\u001b[0m\u001b[0;34m.\u001b[0m\u001b[0mkeys\u001b[0m\u001b[0;34m(\u001b[0m\u001b[0;34m)\u001b[0m\u001b[0;34m:\u001b[0m\u001b[0;34m\u001b[0m\u001b[0m\n\u001b[1;32m      4\u001b[0m     \u001b[0;32mif\u001b[0m \u001b[0mnetwork_name\u001b[0m\u001b[0;34m.\u001b[0m\u001b[0msplit\u001b[0m\u001b[0;34m(\u001b[0m\u001b[0;34m' '\u001b[0m\u001b[0;34m)\u001b[0m\u001b[0;34m[\u001b[0m\u001b[0;36m0\u001b[0m\u001b[0;34m]\u001b[0m \u001b[0;34m==\u001b[0m \u001b[0;34m'Random'\u001b[0m\u001b[0;34m:\u001b[0m\u001b[0;34m\u001b[0m\u001b[0m\n\u001b[1;32m      5\u001b[0m         \u001b[0mclass_id\u001b[0m \u001b[0;34m=\u001b[0m \u001b[0mnetwork_name\u001b[0m\u001b[0;34m.\u001b[0m\u001b[0msplit\u001b[0m\u001b[0;34m(\u001b[0m\u001b[0;34m' '\u001b[0m\u001b[0;34m)\u001b[0m\u001b[0;34m[\u001b[0m\u001b[0;36m1\u001b[0m\u001b[0;34m]\u001b[0m\u001b[0;34m\u001b[0m\u001b[0m\n",
      "\u001b[0;31mNameError\u001b[0m: name 'random_network_generator' is not defined"
     ]
    }
   ],
   "source": [
    "# Gathering the network parameters into a pandas dataframe\n",
    "random_networks = random_network_generator(class_strength, p_values, sex_collect)\n",
    "for network_name in NETWORKS.keys():\n",
    "    if network_name.split(' ')[0] == 'Random':\n",
    "        class_id = network_name.split(' ')[1]\n",
    "        trust_graph = None\n",
    "        \n",
    "    class_id, wave_num = network_name.split(' ')[0], network_name.split(' ')[1]\n",
    "    trust_graph = LoadData2Network(class_id, 1) if wave_num == 'w1' else LoadData2Network(class_id, 2)\n",
    "    NETWORKS[network_name] = get_network_param(trust_graph)\n",
    "\n",
    "allnetwork_params = network_as_row(NETWORKS)\n",
    "allnetwork_params.to_csv('Network Parameters.csv', sep = '\\t', na_rep = 'NaN')\n",
    "\n",
    "    "
   ]
  },
  {
   "cell_type": "code",
   "execution_count": null,
   "metadata": {},
   "outputs": [],
   "source": []
  },
  {
   "cell_type": "code",
   "execution_count": null,
   "metadata": {},
   "outputs": [],
   "source": []
  }
 ],
 "metadata": {
  "hide_input": false,
  "kernelspec": {
   "display_name": "Python 3",
   "language": "python",
   "name": "python3"
  },
  "language_info": {
   "codemirror_mode": {
    "name": "ipython",
    "version": 3
   },
   "file_extension": ".py",
   "mimetype": "text/x-python",
   "name": "python",
   "nbconvert_exporter": "python",
   "pygments_lexer": "ipython3",
   "version": "3.6.5"
  },
  "toc": {
   "base_numbering": 1,
   "nav_menu": {},
   "number_sections": true,
   "sideBar": true,
   "skip_h1_title": false,
   "title_cell": "Table of Contents",
   "title_sidebar": "Contents",
   "toc_cell": false,
   "toc_position": {},
   "toc_section_display": true,
   "toc_window_display": false
  },
  "varInspector": {
   "cols": {
    "lenName": 16,
    "lenType": 16,
    "lenVar": 40
   },
   "kernels_config": {
    "python": {
     "delete_cmd_postfix": "",
     "delete_cmd_prefix": "del ",
     "library": "var_list.py",
     "varRefreshCmd": "print(var_dic_list())"
    },
    "r": {
     "delete_cmd_postfix": ") ",
     "delete_cmd_prefix": "rm(",
     "library": "var_list.r",
     "varRefreshCmd": "cat(var_dic_list()) "
    }
   },
   "types_to_exclude": [
    "module",
    "function",
    "builtin_function_or_method",
    "instance",
    "_Feature"
   ],
   "window_display": false
  }
 },
 "nbformat": 4,
 "nbformat_minor": 2
}
